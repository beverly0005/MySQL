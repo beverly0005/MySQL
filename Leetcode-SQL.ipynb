{
 "cells": [
  {
   "cell_type": "markdown",
   "metadata": {},
   "source": [
    "# Practice and Answer from Leetcode on SQL"
   ]
  },
  {
   "cell_type": "markdown",
   "metadata": {},
   "source": [
    "# Content\n",
    "Title\tSolution\tAcceptance\tDifficulty\tFrequency  \n",
    "175\tCombine Two Tables    \t\t51.6%\tEasy\t\n",
    "176\tSecond Highest Salary    \t\t27.1%\tEasy\t\n",
    "177\tNth Highest Salary    \t\t26.2%\tMedium\t\n",
    "178\tRank Scores    \t\t36.5%\tMedium\t\n",
    "180\tConsecutive Numbers    \t\t33.5%\tMedium\t\n",
    "181\tEmployees Earning More Than Their Managers    \t\t48.3%\tEasy\t\n",
    "182\tDuplicate Emails    \t\t54.6%\tEasy\t\n",
    "183\tCustomers Who Never Order    \t\t44.7%\tEasy\t\n",
    "184\tDepartment Highest Salary    \t\t28.8%\tMedium\t\n",
    "185\tDepartment Top Three Salaries    \t\t25.8%\tHard\t\n",
    "196\tDelete Duplicate Emails    \t\t32.7%\tEasy\t\n",
    "197\tRising Temperature    \t\t34.7%\tEasy\t\n",
    "262\tTrips and Users    \t\t24.9%\tHard\t\n",
    "569\tMedian Employee Salary    \t\t47.0%\tHard\t\n",
    "570\tManagers with at Least 5 Direct Reports    \t\t62.5%\tMedium\t\n",
    "571\tFind Median Given Frequency of Numbers    \t\t46.9%\tHard\t\n",
    "574\tWinning Candidate    \t\t36.2%\tMedium\t\n",
    "577\tEmployee Bonus    \t\t59.3%\tEasy\t\n",
    "578\tGet Highest Answer Rate Question    \t\t35.5%\tMedium\t\n",
    "579\tFind Cumulative Salary of an Employee    \t\t34.3%\tHard\t\n",
    "580\tCount Student Number in Departments    \t\t42.7%\tMedium\t\n",
    "584\tFind Customer Referee    \t\t67.5%\tEasy\t\n",
    "585\tInvestments in 2016    \t\t47.3%\tMedium\t\n",
    "586\tCustomer Placing the Largest Number of Orders    \t\t66.4%\tEasy\t\n",
    "595\tBig Countries    \t\t73.7%\tEasy\t\n",
    "596\tClasses More Than 5 Students    \t\t35.5%\tEasy\t\n",
    "597\tFriend Requests I: Overall Acceptance Rate    \t\t39.6%\tEasy\t\n",
    "601\tHuman Traffic of Stadium    \t\t36.4%\tHard\t\n",
    "602\tFriend Requests II: Who Has the Most Friends    \t\t44.9%\tMedium\t\n",
    "603\tConsecutive Available Seats    \t\t58.2%\tEasy\t\n",
    "607\tSales Person    \t\t56.8%\tEasy\t\n",
    "608\tTree Node    \t\t58.7%\tMedium\t\n",
    "610\tTriangle Judgement    \t\t61.3%\tEasy\t\n",
    "612\tShortest Distance in a Plane    \t\t53.5%\tMedium\t\n",
    "613\tShortest Distance in a Line    \t\t73.0%\tEasy\t\n",
    "614\tSecond Degree Follower    \t\t22.6%\tMedium\t\n",
    "615\tAverage Salary: Departments VS Company    \t\t37.4%\tHard\t\n",
    "618\tStudents Report By Geography    \t\t42.8%\tHard\t\n",
    "619\tBiggest Single Number    \t\t38.7%\tEasy\t\n",
    "620\tNot Boring Movies    \t\t62.1%\tEasy\t\n",
    "626\tExchange Seats    \t\t54.4%\tMedium\t\n",
    "627\tSwap Salary    \t\t68.6%\tEasy\t\n",
    "1045 Customers Who Bought All Products    \t\t65.3%\tMedium\t\n",
    "1050 Actors and Directors Who Cooperated At Least Three Times    New  79.6%\tEasy\t\n"
   ]
  },
  {
   "cell_type": "markdown",
   "metadata": {},
   "source": [
    "### 175. Combine Two Tables"
   ]
  },
  {
   "cell_type": "raw",
   "metadata": {},
   "source": [
    "Table: Person\n",
    "\n",
    "+-------------+---------+\n",
    "| Column Name | Type    |\n",
    "+-------------+---------+\n",
    "| PersonId    | int     |\n",
    "| FirstName   | varchar |\n",
    "| LastName    | varchar |\n",
    "+-------------+---------+\n",
    "PersonId is the primary key column for this table.\n",
    "Table: Address\n",
    "\n",
    "+-------------+---------+\n",
    "| Column Name | Type    |\n",
    "+-------------+---------+\n",
    "| AddressId   | int     |\n",
    "| PersonId    | int     |\n",
    "| City        | varchar |\n",
    "| State       | varchar |\n",
    "+-------------+---------+\n",
    "AddressId is the primary key column for this table.\n",
    " \n",
    "\n",
    "Write a SQL query for a report that provides the following information for each person in the Person table, regardless if there is an address for each of those people:\n",
    "\n",
    "FirstName, LastName, City, State"
   ]
  },
  {
   "cell_type": "markdown",
   "metadata": {},
   "source": [
    "### Answer"
   ]
  },
  {
   "cell_type": "raw",
   "metadata": {},
   "source": [
    "SELECT FirstName, LastName, City, State \n",
    "FROM Person\n",
    "LEFT JOIN Address\n",
    "ON Person.PersonID = Address.PersonID;"
   ]
  },
  {
   "cell_type": "markdown",
   "metadata": {},
   "source": [
    "#### <span style=\"color:red\">However, the SQL code above is not efficient (faster) enough. Use Alias to make it run faster.</span> "
   ]
  },
  {
   "cell_type": "raw",
   "metadata": {},
   "source": [
    "SELECT t1.FirstName, t1.LastName, t2.City, t2.State \n",
    "FROM Person t1\n",
    "LEFT JOIN Address t2\n",
    "ON t1.PersonID = t2.PersonID;"
   ]
  },
  {
   "cell_type": "markdown",
   "metadata": {},
   "source": [
    "### 176. Second Highest Salary (Easy)"
   ]
  },
  {
   "cell_type": "raw",
   "metadata": {},
   "source": [
    "Write a SQL query to get the second highest salary from the Employee table.\n",
    "\n",
    "+----+--------+\n",
    "| Id | Salary |\n",
    "+----+--------+\n",
    "| 1  | 100    |\n",
    "| 2  | 200    |\n",
    "| 3  | 300    |\n",
    "+----+--------+\n",
    "For example, given the above Employee table, the query should return 200 as the second highest salary. If there is no second highest salary, then the query should return null.\n",
    "\n",
    "+---------------------+\n",
    "| SecondHighestSalary |\n",
    "+---------------------+\n",
    "| 200                 |\n",
    "+---------------------+"
   ]
  },
  {
   "cell_type": "markdown",
   "metadata": {},
   "source": [
    "### Answer: Tricky part\n",
    "+ <span style=\"color:red\"> the second highest refers to distinct values </span>\n",
    "+ <span style=\"color:red\"> if there is no second highest value, it needs to return null (rather than empty): so need to use IFNULL() </span>"
   ]
  },
  {
   "cell_type": "raw",
   "metadata": {},
   "source": [
    "SELECT \n",
    "    IFNULL(\n",
    "        (SELECT DISTINCT Salary\n",
    "         FROM Employee\n",
    "         ORDER BY Salary DESC\n",
    "         LIMIT 1,1),\n",
    "         NULL) AS SecondHighestSalary;"
   ]
  },
  {
   "cell_type": "markdown",
   "metadata": {},
   "source": [
    "### 177. Nth Highest Salary (Medium)"
   ]
  },
  {
   "cell_type": "raw",
   "metadata": {},
   "source": [
    "Write a SQL query to get the nth highest salary from the Employee table.\n",
    "\n",
    "+----+--------+\n",
    "| Id | Salary |\n",
    "+----+--------+\n",
    "| 1  | 100    |\n",
    "| 2  | 200    |\n",
    "| 3  | 300    |\n",
    "+----+--------+\n",
    "For example, given the above Employee table, the nth highest salary where n = 2 is 200. If there is no nth highest salary, then the query should return null.\n",
    "\n",
    "+------------------------+\n",
    "| getNthHighestSalary(2) |\n",
    "+------------------------+\n",
    "| 200                    |\n",
    "+------------------------+"
   ]
  },
  {
   "cell_type": "markdown",
   "metadata": {},
   "source": [
    "### Answer: Tricky part\n",
    "+ <span style=\"color:red\"> Need to set N = N-1, because we cannot directly use LIMIT 1 OFFSET N-1... </span>\n",
    "+ <span style=\"color:red\"> If we want use other symbol, e.g. M, we need to DECLARE IT first: e.g. DECLARE M INT </span>"
   ]
  },
  {
   "cell_type": "raw",
   "metadata": {},
   "source": [
    "CREATE FUNCTION getNthHighestSalary(N INT) RETURNS INT\n",
    "BEGIN\n",
    "  SET N = N - 1;\n",
    "  RETURN (\n",
    "      SELECT IFNULL(\n",
    "          (SELECT DISTINCT Salary\n",
    "           FROM Employee   \n",
    "           ORDER BY Salary DESC\n",
    "           LIMIT 1 OFFSET N), NULL)\n",
    "  );\n",
    "END"
   ]
  },
  {
   "cell_type": "markdown",
   "metadata": {},
   "source": [
    "### 178. Rank Scores (Medium)"
   ]
  },
  {
   "cell_type": "raw",
   "metadata": {},
   "source": [
    "Write a SQL query to rank scores. If there is a tie between two scores, both should have the same ranking. Note that after a tie, the next ranking number should be the next consecutive integer value. In other words, there should be no \"holes\" between ranks.\n",
    "\n",
    "+----+-------+\n",
    "| Id | Score |\n",
    "+----+-------+\n",
    "| 1  | 3.50  |\n",
    "| 2  | 3.65  |\n",
    "| 3  | 4.00  |\n",
    "| 4  | 3.85  |\n",
    "| 5  | 4.00  |\n",
    "| 6  | 3.65  |\n",
    "+----+-------+\n",
    "For example, given the above Scores table, your query should generate the following report (order by highest score):\n",
    "\n",
    "+-------+------+\n",
    "| Score | Rank |\n",
    "+-------+------+\n",
    "| 4.00  | 1    |\n",
    "| 4.00  | 1    |\n",
    "| 3.85  | 2    |\n",
    "| 3.65  | 3    |\n",
    "| 3.65  | 3    |\n",
    "| 3.50  | 4    |\n",
    "+-------+------+"
   ]
  },
  {
   "cell_type": "markdown",
   "metadata": {},
   "source": [
    "### Answer:\n",
    "<span style=\"color:red\"> There is an easy answer by using DENSE_RANK() and window function, but we need to use MS SQL server. If not, here is the answer. There are something we need to pay attention: </span>\n",
    "+ @var: this var is user-defined variable. We don't need to initialize it all the time. There are 3 types of variables in SQL:\n",
    "    + User-defined variable: using @var\n",
    "    + Local variable: Need to DECLARE first. E.g. DECALRE var INT, SET var = 1\n",
    "    + Server system variable: using @@var \n",
    "+ All created table is better to give them alias\n",
    "+ We want to use and update user-defined variable @num, but this variable's value is not defined yet, therefore we need to let server know @num initial value in FROM sentence. That is why we use: SELECT .., @num := ... FROM Table1, Table2; where Table2 containst the initial value of @num.\n",
    "+ Join function normally combines with ON, but if the two key variables are exactly the same then we can use USING(variable)"
   ]
  },
  {
   "cell_type": "raw",
   "metadata": {},
   "source": [
    "SELECT s1.score AS Score, Rank\n",
    "FROM Scores AS s1\n",
    "LEFT JOIN (\n",
    "    SELECT Score, @num := @num + 1 as Rank\n",
    "    FROM (SELECT DISTINCT Score \n",
    "          FROM Scores\n",
    "          ORDER BY Score DESC) AS Table1,\n",
    "          (SELECT @num := 0) AS Table2) AS s\n",
    "USING (Score)\n",
    "ORDER BY Rank;"
   ]
  },
  {
   "cell_type": "markdown",
   "metadata": {},
   "source": [
    "### 180. Consecutive Numbers (Medium) "
   ]
  },
  {
   "cell_type": "raw",
   "metadata": {},
   "source": [
    "Write a SQL query to find all numbers that appear at least three times consecutively.\n",
    "\n",
    "+----+-----+\n",
    "| Id | Num |\n",
    "+----+-----+\n",
    "| 1  |  1  |\n",
    "| 2  |  1  |\n",
    "| 3  |  1  |\n",
    "| 4  |  2  |\n",
    "| 5  |  1  |\n",
    "| 6  |  2  |\n",
    "| 7  |  2  |\n",
    "+----+-----+\n",
    "For example, given the above Logs table, 1 is the only number that appears consecutively for at least three times.\n",
    "\n",
    "+-----------------+\n",
    "| ConsecutiveNums |\n",
    "+-----------------+\n",
    "| 1               |\n",
    "+-----------------+"
   ]
  },
  {
   "cell_type": "markdown",
   "metadata": {},
   "source": [
    "### Answer: The tricky part is \n",
    "+ <span style=\"color:red\"> Create a new variable using CASE WHEN...THEN END. In the following, two variables were created: @Record and @Count. @Record ensures whether the record below is the same as the record before; @Count does the counting </span>\n",
    "+ <span style=\"color:red\"> @var <> @var := num means that: if @var != num then @var:=num </span>"
   ]
  },
  {
   "cell_type": "raw",
   "metadata": {},
   "source": [
    "SELECT DISTINCT Num AS ConsecutiveNums\n",
    "FROM (SELECT Num, \n",
    "             (CASE\n",
    "                  WHEN @Record = Num THEN @Count := @Count + 1\n",
    "                  WHEN @Record <> @Record := Num THEN  @Count := 1\n",
    "              END) AS n\n",
    "      FROM Logs, \n",
    "           (SELECT @Count := 0, \n",
    "                   @Record := (SELECT Num FROM Logs LIMIT 1)) AS tmp1\n",
    "      ) AS tmp2\n",
    "WHERE tmp2.n >= 3;"
   ]
  },
  {
   "cell_type": "markdown",
   "metadata": {},
   "source": [
    "### 181. Employees Earning More Than Their Managers (Easy)"
   ]
  },
  {
   "cell_type": "raw",
   "metadata": {},
   "source": [
    "The Employee table holds all employees including their managers. Every employee has an Id, and there is also a column for the manager Id.\n",
    "\n",
    "+----+-------+--------+-----------+\n",
    "| Id | Name  | Salary | ManagerId |\n",
    "+----+-------+--------+-----------+\n",
    "| 1  | Joe   | 70000  | 3         |\n",
    "| 2  | Henry | 80000  | 4         |\n",
    "| 3  | Sam   | 60000  | NULL      |\n",
    "| 4  | Max   | 90000  | NULL      |\n",
    "+----+-------+--------+-----------+\n",
    "Given the Employee table, write a SQL query that finds out employees who earn more than their managers. For the above table, Joe is the only employee who earns more than his manager.\n",
    "\n",
    "+----------+\n",
    "| Employee |\n",
    "+----------+\n",
    "| Joe      |\n",
    "+----------+"
   ]
  },
  {
   "cell_type": "markdown",
   "metadata": {},
   "source": [
    "### Answer: \n",
    "<span style=\"color:red\"> There are 2 types of answers: one using JOIN and the other not. The one not using JOIN is faster </span>"
   ]
  },
  {
   "cell_type": "raw",
   "metadata": {},
   "source": [
    "--- Not using JOIN\n",
    "SELECT E.Name As Employee\n",
    "FROM Employee E, Employee M\n",
    "WHERE E.Salary > M.Salary AND E.ManagerId = M.Id;\n",
    "\n",
    "\n",
    "--- Using JOIN\n",
    "SELECT E.Name As Employee\n",
    "FROM Employee E \n",
    "INNER JOIN Employee M\n",
    "ON E.ManagerID = M.Id\n",
    "WHERE E.Salary > M.Salary;"
   ]
  },
  {
   "cell_type": "markdown",
   "metadata": {},
   "source": [
    "### 182. Duplicate Emails (Easy)"
   ]
  },
  {
   "cell_type": "raw",
   "metadata": {},
   "source": [
    "Write a SQL query to find all duplicate emails in a table named Person.\n",
    "\n",
    "+----+---------+\n",
    "| Id | Email   |\n",
    "+----+---------+\n",
    "| 1  | a@b.com |\n",
    "| 2  | c@d.com |\n",
    "| 3  | a@b.com |\n",
    "+----+---------+\n",
    "For example, your query should return the following for the above table:\n",
    "\n",
    "+---------+\n",
    "| Email   |\n",
    "+---------+\n",
    "| a@b.com |\n",
    "+---------+\n",
    "Note: All emails are in lowercase."
   ]
  },
  {
   "cell_type": "markdown",
   "metadata": {},
   "source": [
    "### Answer:"
   ]
  },
  {
   "cell_type": "raw",
   "metadata": {},
   "source": [
    "SELECT Email\n",
    "FROM (SELECT Email, COUNT(*) AS num \n",
    "      FROM Person\n",
    "      GROUP BY EMAIL) tbl\n",
    "WHERE num > 1;"
   ]
  },
  {
   "cell_type": "markdown",
   "metadata": {},
   "source": [
    "### 183. Customers Who Never Order (Easy)"
   ]
  },
  {
   "cell_type": "raw",
   "metadata": {},
   "source": [
    "Suppose that a website contains two tables, the Customers table and the Orders table. Write a SQL query to find all customers who never order anything.\n",
    "\n",
    "Table: Customers.\n",
    "\n",
    "+----+-------+\n",
    "| Id | Name  |\n",
    "+----+-------+\n",
    "| 1  | Joe   |\n",
    "| 2  | Henry |\n",
    "| 3  | Sam   |\n",
    "| 4  | Max   |\n",
    "+----+-------+\n",
    "Table: Orders.\n",
    "\n",
    "+----+------------+\n",
    "| Id | CustomerId |\n",
    "+----+------------+\n",
    "| 1  | 3          |\n",
    "| 2  | 1          |\n",
    "+----+------------+\n",
    "Using the above tables as example, return the following:\n",
    "\n",
    "+-----------+\n",
    "| Customers |\n",
    "+-----------+\n",
    "| Henry     |\n",
    "| Max       |\n",
    "+-----------+"
   ]
  },
  {
   "cell_type": "markdown",
   "metadata": {},
   "source": [
    "### Answer:"
   ]
  },
  {
   "cell_type": "raw",
   "metadata": {},
   "source": [
    "SELECT Name AS Customers\n",
    "FROM Customers\n",
    "WHERE Id NOT IN (SELECT DISTINCT CustomerId\n",
    "                 FROM Orders);"
   ]
  },
  {
   "cell_type": "markdown",
   "metadata": {},
   "source": [
    "### 184. Department Highest Salary (Hard)"
   ]
  },
  {
   "cell_type": "raw",
   "metadata": {},
   "source": [
    "The Employee table holds all employees. Every employee has an Id, a salary, and there is also a column for the department Id.\n",
    "\n",
    "+----+-------+--------+--------------+\n",
    "| Id | Name  | Salary | DepartmentId |\n",
    "+----+-------+--------+--------------+\n",
    "| 1  | Joe   | 70000  | 1            |\n",
    "| 2  | Jim   | 90000  | 1            |\n",
    "| 3  | Henry | 80000  | 2            |\n",
    "| 4  | Sam   | 60000  | 2            |\n",
    "| 5  | Max   | 90000  | 1            |\n",
    "+----+-------+--------+--------------+\n",
    "The Department table holds all departments of the company.\n",
    "\n",
    "+----+----------+\n",
    "| Id | Name     |\n",
    "+----+----------+\n",
    "| 1  | IT       |\n",
    "| 2  | Sales    |\n",
    "+----+----------+\n",
    "Write a SQL query to find employees who have the highest salary in each of the departments. For the above tables, your SQL query should return the following rows (order of rows does not matter).\n",
    "\n",
    "+------------+----------+--------+\n",
    "| Department | Employee | Salary |\n",
    "+------------+----------+--------+\n",
    "| IT         | Max      | 90000  |\n",
    "| IT         | Jim      | 90000  |\n",
    "| Sales      | Henry    | 80000  |\n",
    "+------------+----------+--------+\n",
    "Explanation:\n",
    "\n",
    "Max and Jim both have the highest salary in the IT department and Henry has the highest salary in the Sales department."
   ]
  },
  {
   "cell_type": "markdown",
   "metadata": {},
   "source": [
    "### Answer: The tricky part:\n",
    "<span style=\"color:red\"> GROUP BY must exist after FROM and WHERE, but before HAVING </span>"
   ]
  },
  {
   "cell_type": "raw",
   "metadata": {},
   "source": [
    "SELECT D.Name AS Department, E.Name AS Employee, E.Salary\n",
    "FROM Employee E\n",
    "LEFT JOIN (SELECT DepartmentId, \n",
    "                  MAX(Salary) AS Max_salary\n",
    "           FROM Employee\n",
    "           GROUP BY DepartmentId\n",
    "           ) M\n",
    "USING(DepartmentId)\n",
    "INNER JOIN Department D\n",
    "ON E.DepartmentId = D.Id\n",
    "WHERE Salary = Max_salary;"
   ]
  },
  {
   "cell_type": "markdown",
   "metadata": {},
   "source": [
    "### 185. Department Top Three Salaries (Hard)"
   ]
  },
  {
   "cell_type": "raw",
   "metadata": {},
   "source": [
    "The Employee table holds all employees. Every employee has an Id, and there is also a column for the department Id.\n",
    "\n",
    "+----+-------+--------+--------------+\n",
    "| Id | Name  | Salary | DepartmentId |\n",
    "+----+-------+--------+--------------+\n",
    "| 1  | Joe   | 85000  | 1            |\n",
    "| 2  | Henry | 80000  | 2            |\n",
    "| 3  | Sam   | 60000  | 2            |\n",
    "| 4  | Max   | 90000  | 1            |\n",
    "| 5  | Janet | 69000  | 1            |\n",
    "| 6  | Randy | 85000  | 1            |\n",
    "| 7  | Will  | 70000  | 1            |\n",
    "+----+-------+--------+--------------+\n",
    "The Department table holds all departments of the company.\n",
    "\n",
    "+----+----------+\n",
    "| Id | Name     |\n",
    "+----+----------+\n",
    "| 1  | IT       |\n",
    "| 2  | Sales    |\n",
    "+----+----------+\n",
    "Write a SQL query to find employees who earn the top three salaries in each of the department. For the above tables, your SQL query should return the following rows (order of rows does not matter).\n",
    "\n",
    "+------------+----------+--------+\n",
    "| Department | Employee | Salary |\n",
    "+------------+----------+--------+\n",
    "| IT         | Max      | 90000  |\n",
    "| IT         | Randy    | 85000  |\n",
    "| IT         | Joe      | 85000  |\n",
    "| IT         | Will     | 70000  |\n",
    "| Sales      | Henry    | 80000  |\n",
    "| Sales      | Sam      | 60000  |\n",
    "+------------+----------+--------+\n",
    "Explanation:\n",
    "\n",
    "In IT department, Max earns the highest salary, both Randy and Joe earn the second highest salary, and Will earns the third highest salary. There are only two employees in the Sales department, Henry earns the highest salary while Sam earns the second highest salary."
   ]
  },
  {
   "cell_type": "markdown",
   "metadata": {},
   "source": [
    "### Answer:"
   ]
  },
  {
   "cell_type": "raw",
   "metadata": {},
   "source": [
    "SELECT D.Name AS Department, E.Name AS Employee, E.Salary\n",
    "FROM Employee E\n",
    "JOIN Department D\n",
    "ON E.DepartmentId = D.Id\n",
    "WHERE (SELECT COUNT(DISTINCT E2.Salary)\n",
    "       FROM Employee E2\n",
    "       WHERE E2.Salary > E.Salary \n",
    "             AND E2.DepartmentId = E.DepartmentId) < 3;"
   ]
  },
  {
   "cell_type": "markdown",
   "metadata": {},
   "source": [
    "### 196. Delete Duplicate Emails (Easy)"
   ]
  },
  {
   "cell_type": "raw",
   "metadata": {},
   "source": [
    "Write a SQL query to delete all duplicate email entries in a table named Person, keeping only unique emails based on its smallest Id.\n",
    "\n",
    "+----+------------------+\n",
    "| Id | Email            |\n",
    "+----+------------------+\n",
    "| 1  | john@example.com |\n",
    "| 2  | bob@example.com  |\n",
    "| 3  | john@example.com |\n",
    "+----+------------------+\n",
    "Id is the primary key column for this table.\n",
    "For example, after running your query, the above Person table should have the following rows:\n",
    "\n",
    "+----+------------------+\n",
    "| Id | Email            |\n",
    "+----+------------------+\n",
    "| 1  | john@example.com |\n",
    "| 2  | bob@example.com  |\n",
    "+----+------------------+\n",
    "Note:\n",
    "\n",
    "Your output is the whole Person table after executing your sql. Use delete statement."
   ]
  },
  {
   "cell_type": "markdown",
   "metadata": {},
   "source": [
    "### Answer: \n",
    "<span style=\"color:red\">The tricky part is we cannot not use \"SELECT Email, MIN(Id) FROM ... GROUP BY Email\", because it does not delete the duplicate records, it just selects something to show. </span>"
   ]
  },
  {
   "cell_type": "raw",
   "metadata": {},
   "source": [
    "DELETE t1 FROM Person t1, Person t2\n",
    "WHERE t1.Email = t2.Email AND t1.Id > t2.Id;"
   ]
  },
  {
   "cell_type": "markdown",
   "metadata": {},
   "source": [
    "### 197. Rising Temperature (Easy)"
   ]
  },
  {
   "cell_type": "raw",
   "metadata": {},
   "source": [
    "Given a Weather table, write a SQL query to find all dates' Ids with higher temperature compared to its previous (yesterday's) dates.\n",
    "\n",
    "+---------+------------------+------------------+\n",
    "| Id(INT) | RecordDate(DATE) | Temperature(INT) |\n",
    "+---------+------------------+------------------+\n",
    "|       1 |       2015-01-01 |               10 |\n",
    "|       2 |       2015-01-02 |               25 |\n",
    "|       3 |       2015-01-03 |               20 |\n",
    "|       4 |       2015-01-04 |               30 |\n",
    "+---------+------------------+------------------+\n",
    "For example, return the following Ids for the above Weather table:\n",
    "\n",
    "+----+\n",
    "| Id |\n",
    "+----+\n",
    "|  2 |\n",
    "|  4 |\n",
    "+----+"
   ]
  },
  {
   "cell_type": "markdown",
   "metadata": {},
   "source": [
    "### Answer:\n",
    "<span style=\"color:red\"> ON in JOIN operation can be done on a condition. Here the condition has 2 parts: one is DATEDIFF, and the other part is temperature. </span>"
   ]
  },
  {
   "cell_type": "raw",
   "metadata": {},
   "source": [
    "--- Slow\n",
    "SELECT t1.Id\n",
    "FROM Weather t1, Weather t2\n",
    "WHERE t1.Temperature > t2.Temperature AND DATEDIFF(t1.RecordDate, t2.RecordDate) = 1;\n",
    "\n",
    "\n",
    "--- Fast\n",
    "SELECT t1.Id\n",
    "FROM Weather t1\n",
    "JOIN Weather t2 \n",
    "ON DATEDIFF(t1.RecorDate, t2.RecorDate) = 1\n",
    "   AND t1.Temperature > t2.Temperature\n",
    ";\n"
   ]
  },
  {
   "cell_type": "markdown",
   "metadata": {},
   "source": [
    "### 262. Trips and Users (Hard)"
   ]
  },
  {
   "cell_type": "raw",
   "metadata": {},
   "source": [
    "The Trips table holds all taxi trips. Each trip has a unique Id, while Client_Id and Driver_Id are both foreign keys to the Users_Id at the Users table. Status is an ENUM type of (‘completed’, ‘cancelled_by_driver’, ‘cancelled_by_client’).\n",
    "\n",
    "+----+-----------+-----------+---------+--------------------+----------+\n",
    "| Id | Client_Id | Driver_Id | City_Id |        Status      |Request_at|\n",
    "+----+-----------+-----------+---------+--------------------+----------+\n",
    "| 1  |     1     |    10     |    1    |     completed      |2013-10-01|\n",
    "| 2  |     2     |    11     |    1    | cancelled_by_driver|2013-10-01|\n",
    "| 3  |     3     |    12     |    6    |     completed      |2013-10-01|\n",
    "| 4  |     4     |    13     |    6    | cancelled_by_client|2013-10-01|\n",
    "| 5  |     1     |    10     |    1    |     completed      |2013-10-02|\n",
    "| 6  |     2     |    11     |    6    |     completed      |2013-10-02|\n",
    "| 7  |     3     |    12     |    6    |     completed      |2013-10-02|\n",
    "| 8  |     2     |    12     |    12   |     completed      |2013-10-03|\n",
    "| 9  |     3     |    10     |    12   |     completed      |2013-10-03| \n",
    "| 10 |     4     |    13     |    12   | cancelled_by_driver|2013-10-03|\n",
    "+----+-----------+-----------+---------+--------------------+----------+\n",
    "The Users table holds all users. Each user has an unique Users_Id, and Role is an ENUM type of (‘client’, ‘driver’, ‘partner’).\n",
    "\n",
    "+----------+--------+--------+\n",
    "| Users_Id | Banned |  Role  |\n",
    "+----------+--------+--------+\n",
    "|    1     |   No   | client |\n",
    "|    2     |   Yes  | client |\n",
    "|    3     |   No   | client |\n",
    "|    4     |   No   | client |\n",
    "|    10    |   No   | driver |\n",
    "|    11    |   No   | driver |\n",
    "|    12    |   No   | driver |\n",
    "|    13    |   No   | driver |\n",
    "+----------+--------+--------+\n",
    "Write a SQL query to find the cancellation rate of requests made by unbanned users between Oct 1, 2013 and Oct 3, 2013. For the above tables, your SQL query should return the following rows with the cancellation rate being rounded to two decimal places.\n",
    "\n",
    "+------------+-------------------+\n",
    "|     Day    | Cancellation Rate |\n",
    "+------------+-------------------+\n",
    "| 2013-10-01 |       0.33        |\n",
    "| 2013-10-02 |       0.00        |\n",
    "| 2013-10-03 |       0.50        |\n",
    "+------------+-------------------+\n",
    "Credits:\n",
    "Special thanks to @cak1erlizhou for contributing this question, writing the problem description and adding part of the test cases."
   ]
  },
  {
   "cell_type": "markdown",
   "metadata": {},
   "source": [
    "### Answer:"
   ]
  },
  {
   "cell_type": "raw",
   "metadata": {},
   "source": [
    "SELECT A.Request_at AS Day,\n",
    "       IFNULL(ROUND(B.cancel/A.tot, 2), 0.00) AS \"Cancellation Rate\"\n",
    "FROM (SELECT Request_at, COUNT(*) AS tot\n",
    "      FROM Trips\n",
    "      WHERE Client_Id NOT IN (SELECT Users_Id FROM Users WHERE Banned = \"Yes\")\n",
    "                AND Driver_Id NOT IN (SELECT Users_Id FROM Users WHERE Banned = \"Yes\")\n",
    "                AND Request_at BETWEEN \"2013-10-01\" AND \"2013-10-03\" \n",
    "      GROUP BY Request_at) A\n",
    "LEFT JOIN (SELECT Request_at, COUNT(*) AS cancel\n",
    "           FROM Trips\n",
    "            WHERE Client_Id NOT IN (SELECT Users_Id FROM Users WHERE Banned = \"Yes\")\n",
    "                AND Driver_Id NOT IN (SELECT Users_Id FROM Users WHERE Banned = \"Yes\")\n",
    "                AND Status LIKE \"cancelled_by_%\"\n",
    "            GROUP BY Request_at) B\n",
    "ON A.Request_at = B.Request_at\n",
    "\n",
    "\n",
    "---Another more efficient answer:\n",
    "SELECT\n",
    "\tTrips.Request_at AS Day,\n",
    "\tCONVERT (\n",
    "\t\tSUM( CASE WHEN Trips.STATUS LIKE 'cancelled_by_%' THEN 1 ELSE 0 END ) / COUNT( * ),\n",
    "\t\tDECIMAL ( 10, 2 ) \n",
    "\t) AS `Cancellation Rate`\n",
    "FROM\n",
    "\tTrips \n",
    "WHERE\n",
    "\tTrips.Client_Id NOT IN ( SELECT Users_Id FROM Users WHERE Banned = 'Yes' AND Role = 'client' ) \n",
    "\tAND Trips.Driver_Id NOT IN ( SELECT Users_Id FROM Users WHERE Banned = 'Yes' AND Role = 'driver' )\n",
    "    AND Trips.Request_at BETWEEN '2013-10-01' AND '2013-10-03'\n",
    "GROUP BY\n",
    "\tRequest_at"
   ]
  },
  {
   "cell_type": "markdown",
   "metadata": {},
   "source": [
    "### 569. Median Employee Salary (Hard)"
   ]
  },
  {
   "cell_type": "raw",
   "metadata": {},
   "source": [
    "The Employee table holds all employees. The employee table has three columns: Employee Id, Company Name, and Salary.\n",
    "\n",
    "+-----+------------+--------+\n",
    "|Id   | Company    | Salary |\n",
    "+-----+------------+--------+\n",
    "|1    | A          | 2341   |\n",
    "|2    | A          | 341    |\n",
    "|3    | A          | 15     |\n",
    "|4    | A          | 15314  |\n",
    "|5    | A          | 451    |\n",
    "|6    | A          | 513    |\n",
    "|7    | B          | 15     |\n",
    "|8    | B          | 13     |\n",
    "|9    | B          | 1154   |\n",
    "|10   | B          | 1345   |\n",
    "|11   | B          | 1221   |\n",
    "|12   | B          | 234    |\n",
    "|13   | C          | 2345   |\n",
    "|14   | C          | 2645   |\n",
    "|15   | C          | 2645   |\n",
    "|16   | C          | 2652   |\n",
    "|17   | C          | 65     |\n",
    "+-----+------------+--------+\n",
    "Write a SQL query to find the median salary of each company. Bonus points if you can solve it without using any built-in SQL functions.\n",
    "\n",
    "+-----+------------+--------+\n",
    "|Id   | Company    | Salary |\n",
    "+-----+------------+--------+\n",
    "|5    | A          | 451    |\n",
    "|6    | A          | 513    |\n",
    "|12   | B          | 234    |\n",
    "|9    | B          | 1154   |\n",
    "|14   | C          | 2645   |\n",
    "+-----+------------+--------+"
   ]
  },
  {
   "cell_type": "markdown",
   "metadata": {},
   "source": [
    "### Answer: The Tricky Part is:\n",
    "+ Use IF(COND, YES, NO) to define and update variable\n",
    "+ <span style = \"color:red\"> When same variables need to be used/called for multiple times, we need to use alias for table and call these variables with table alias </span>\n",
    "+ The second method is based on the property of median: <span style = \"color:red\"> the median's frequency should be equal or grater than the absolute difference of its bigger elements and small ones in an array </span>. Below \n",
    "    + SELECT t1.col1, t2.col1 FROM t1, t2: returns a table where each row of t1 (col1) matches with ALL rows of t2 (col1)\n",
    "    + SUM(CASE...END) computes the frequency of a number\n",
    "    + ABS(SIGN(...)) computes the difference in the frequencies of bigger and smaller numbers\n",
    "    + MySQL default setting is \"ONLY_FULL_GROUP_BY\", so for those variables which are not unique (value) within a group, it will report errors. In this case, we remove it from global setting (in creating a table) and also from session setting (in existing table)."
   ]
  },
  {
   "cell_type": "raw",
   "metadata": {},
   "source": [
    "--- Method 1: Ranking\n",
    "SELECT t1.Id, t1.Company, t1.Salary\n",
    "FROM (SELECT E.Id, E.Company, E.Salary,\n",
    "            IF(@prev = E.Company, @count := @count + 1, \n",
    "               @count := 1) AS loc,\n",
    "            @prev := E.Company\n",
    "      FROM Employee E,\n",
    "           (SELECT @count := 0, \n",
    "                   @prev := 0) AS tmp\n",
    "      ORDER BY E.Company, E.Salary) AS t1\n",
    "INNER JOIN (SELECT Company, COUNT(*) AS m_loc\n",
    "            FROM Employee\n",
    "            GROUP BY Company) AS t2\n",
    "ON t1.Company = t2.Company\n",
    "WHERE t1.loc = FLOOR((m_loc + 1)/2) \n",
    "      OR t1.loc = FLOOR((m_loc + 2)/2)\n",
    "      \n",
    "      \n",
    "--- Method 2: Property\n",
    "set global sql_mode='STRICT_TRANS_TABLES,NO_ZERO_IN_DATE,NO_ZERO_DATE,ERROR_FOR_DIVISION_BY_ZERO,NO_AUTO_CREATE_USER,NO_ENGINE_SUBSTITUTION';   \n",
    "set session sql_mode='STRICT_TRANS_TABLES,NO_ZERO_IN_DATE,NO_ZERO_DATE,ERROR_FOR_DIVISION_BY_ZERO,NO_AUTO_CREATE_USER,NO_ENGINE_SUBSTITUTION';\n",
    "\n",
    "\n",
    "SELECT\n",
    "    Employee.Id, Employee.Company, Employee.Salary\n",
    "FROM\n",
    "    Employee,\n",
    "    Employee B\n",
    "WHERE\n",
    "    Employee.Company = B.Company\n",
    "GROUP BY Employee.Company , Employee.Salary\n",
    "HAVING SUM(CASE\n",
    "                WHEN Employee.Salary = alias.Salary THEN 1 ELSE 0\n",
    "           END) >= ABS(SUM(SIGN(Employee.Salary - alias.Salary)))\n",
    "ORDER BY Employee.Id;"
   ]
  },
  {
   "cell_type": "markdown",
   "metadata": {},
   "source": [
    "### 570. Managers with at Least 5 Direct Reports (Medium)"
   ]
  },
  {
   "cell_type": "raw",
   "metadata": {},
   "source": [
    "The Employee table holds all employees including their managers. Every employee has an Id, and there is also a column for the manager Id.\n",
    "\n",
    "+------+----------+-----------+----------+\n",
    "|Id    |Name \t  |Department |ManagerId |\n",
    "+------+----------+-----------+----------+\n",
    "|101   |John \t  |A \t      |null      |\n",
    "|102   |Dan \t  |A \t      |101       |\n",
    "|103   |James \t  |A \t      |101       |\n",
    "|104   |Amy \t  |A \t      |101       |\n",
    "|105   |Anne \t  |A \t      |101       |\n",
    "|106   |Ron \t  |B \t      |101       |\n",
    "+------+----------+-----------+----------+\n",
    "Given the Employee table, write a SQL query that finds out managers with at least 5 direct report. For the above table, your SQL query should return:\n",
    "\n",
    "+-------+\n",
    "| Name  |\n",
    "+-------+\n",
    "| John  |\n",
    "+-------+"
   ]
  },
  {
   "cell_type": "markdown",
   "metadata": {},
   "source": [
    "### Answer:"
   ]
  },
  {
   "cell_type": "raw",
   "metadata": {},
   "source": [
    "SELECT t1.Name\n",
    "FROM Employee t1\n",
    "     JOIN (SELECT ManagerId, COUNT(*) AS dir_num\n",
    "           FROM Employee\n",
    "           GROUP BY ManagerId) t2\n",
    "     ON t1.Id = t2.ManagerId\n",
    "WHERE t2.dir_num >= 5;\n"
   ]
  },
  {
   "cell_type": "markdown",
   "metadata": {},
   "source": [
    "### 571. Find Median Given Frequency of Numbers (Hard)"
   ]
  },
  {
   "cell_type": "raw",
   "metadata": {},
   "source": [
    "The Numbers table keeps the value of number and its frequency.\n",
    "\n",
    "+----------+-------------+\n",
    "|  Number  |  Frequency  |\n",
    "+----------+-------------|\n",
    "|  0       |  7          |\n",
    "|  1       |  1          |\n",
    "|  2       |  3          |\n",
    "|  3       |  1          |\n",
    "+----------+-------------+\n",
    "In this table, the numbers are 0, 0, 0, 0, 0, 0, 0, 1, 2, 2, 2, 3, so the median is (0 + 0) / 2 = 0.\n",
    "\n",
    "+--------+\n",
    "| median |\n",
    "+--------|\n",
    "| 0.0000 |\n",
    "+--------+\n",
    "Write a query to find the median of all numbers and name the result as median."
   ]
  },
  {
   "cell_type": "markdown",
   "metadata": {},
   "source": [
    "### Answer: The tricky part is:\n",
    "+ Use AVG() in case it returns multiple values\n",
    "+ Use Number <= A.Number rather than Number < A.Number: because the former will always return a record, while the later may return null record. Similary for Number >= A.Number. \n",
    "+ property of median: <span style = \"color:red\"> the median's frequency should be equal or grater than the absolute difference of its bigger elements and small ones in an array </span>."
   ]
  },
  {
   "cell_type": "raw",
   "metadata": {},
   "source": [
    "SELECT AVG(A.Number) AS median\n",
    "FROM Numbers A\n",
    "WHERE A.Frequency >= ABS((SELECT SUM(Frequency) FROM Numbers WHERE Number <= A.Number) -\n",
    "                        (SELECT SUM(Frequency) FROM Numbers WHERE Number >= A.Number));\n"
   ]
  },
  {
   "cell_type": "markdown",
   "metadata": {},
   "source": [
    "### 574. Winning Candidate (Medium)"
   ]
  },
  {
   "cell_type": "raw",
   "metadata": {},
   "source": [
    "Table: Candidate\n",
    "\n",
    "+-----+---------+\n",
    "| id  | Name    |\n",
    "+-----+---------+\n",
    "| 1   | A       |\n",
    "| 2   | B       |\n",
    "| 3   | C       |\n",
    "| 4   | D       |\n",
    "| 5   | E       |\n",
    "+-----+---------+  \n",
    "Table: Vote\n",
    "\n",
    "+-----+--------------+\n",
    "| id  | CandidateId  |\n",
    "+-----+--------------+\n",
    "| 1   |     2        |\n",
    "| 2   |     4        |\n",
    "| 3   |     3        |\n",
    "| 4   |     2        |\n",
    "| 5   |     5        |\n",
    "+-----+--------------+\n",
    "id is the auto-increment primary key,\n",
    "CandidateId is the id appeared in Candidate table.\n",
    "Write a sql to find the name of the winning candidate, the above example will return the winner B.\n",
    "\n",
    "+------+\n",
    "| Name |\n",
    "+------+\n",
    "| B    |\n",
    "+------+\n",
    "Notes:\n",
    "\n",
    "You may assume there is no tie, in other words there will be at most one winning candidate."
   ]
  },
  {
   "cell_type": "markdown",
   "metadata": {},
   "source": [
    "### Answer: Notice this is the way how to choose the Max: Use ORDER BY and then LIMIT"
   ]
  },
  {
   "cell_type": "raw",
   "metadata": {},
   "source": [
    "SELECT\n",
    "    name AS 'Name'\n",
    "FROM\n",
    "    Candidate\n",
    "        JOIN\n",
    "    (SELECT\n",
    "        Candidateid\n",
    "    FROM\n",
    "        Vote\n",
    "    GROUP BY Candidateid\n",
    "    ORDER BY COUNT(*) DESC\n",
    "    LIMIT 1) AS winner\n",
    "WHERE\n",
    "    Candidate.id = winner.Candidateid\n",
    ";"
   ]
  },
  {
   "cell_type": "markdown",
   "metadata": {},
   "source": [
    "### 577. Employee Bonus (Easy)"
   ]
  },
  {
   "cell_type": "raw",
   "metadata": {},
   "source": [
    "Select all employee's name and bonus whose bonus is < 1000.\n",
    "\n",
    "Table:Employee\n",
    "\n",
    "+-------+--------+-----------+--------+\n",
    "| empId |  name  | supervisor| salary |\n",
    "+-------+--------+-----------+--------+\n",
    "|   1   | John   |  3        | 1000   |\n",
    "|   2   | Dan    |  3        | 2000   |\n",
    "|   3   | Brad   |  null     | 4000   |\n",
    "|   4   | Thomas |  3        | 4000   |\n",
    "+-------+--------+-----------+--------+\n",
    "empId is the primary key column for this table.\n",
    "Table: Bonus\n",
    "\n",
    "+-------+-------+\n",
    "| empId | bonus |\n",
    "+-------+-------+\n",
    "| 2     | 500   |\n",
    "| 4     | 2000  |\n",
    "+-------+-------+\n",
    "empId is the primary key column for this table.\n",
    "Example ouput:\n",
    "\n",
    "+-------+-------+\n",
    "| name  | bonus |\n",
    "+-------+-------+\n",
    "| John  | null  |\n",
    "| Dan   | 500   |\n",
    "| Brad  | null  |\n",
    "+-------+-------+"
   ]
  },
  {
   "cell_type": "markdown",
   "metadata": {},
   "source": [
    "### Answer:"
   ]
  },
  {
   "cell_type": "raw",
   "metadata": {},
   "source": [
    "SELECT A.name, B.bonus\n",
    "FROM Employee A\n",
    "LEFT JOIN Bonus B\n",
    "USING (empId)\n",
    "WHERE B.bonus < 1000 OR B.bonus IS NULL;"
   ]
  },
  {
   "cell_type": "markdown",
   "metadata": {},
   "source": [
    "### 578. Get Highest Answer Rate Question (Medium)"
   ]
  },
  {
   "cell_type": "raw",
   "metadata": {},
   "source": [
    "Get the highest answer rate question from a table survey_log with these columns: uid, action, question_id, answer_id, q_num, timestamp.\n",
    "\n",
    "uid means user id; action has these kind of values: \"show\", \"answer\", \"skip\"; answer_id is not null when action column is \"answer\", while is null for \"show\" and \"skip\"; q_num is the numeral order of the question in current session.\n",
    "\n",
    "Write a sql query to identify the question which has the highest answer rate.\n",
    "\n",
    "Example:\n",
    "\n",
    "Input:\n",
    "+------+-----------+--------------+------------+-----------+------------+\n",
    "| uid  | action    | question_id  | answer_id  | q_num     | timestamp  |\n",
    "+------+-----------+--------------+------------+-----------+------------+\n",
    "| 5    | show      | 285          | null       | 1         | 123        |\n",
    "| 5    | answer    | 285          | 124124     | 1         | 124        |\n",
    "| 5    | show      | 369          | null       | 2         | 125        |\n",
    "| 5    | skip      | 369          | null       | 2         | 126        |\n",
    "+------+-----------+--------------+------------+-----------+------------+\n",
    "Output:\n",
    "+-------------+\n",
    "| survey_log  |\n",
    "+-------------+\n",
    "|    285      |\n",
    "+-------------+\n",
    "Explanation:\n",
    "question 285 has answer rate 1/1, while question 369 has 0/1 answer rate, so output 285.\n",
    " \n",
    "\n",
    "Note: The highest answer rate meaning is: answer number's ratio in show number in the same question.b"
   ]
  },
  {
   "cell_type": "markdown",
   "metadata": {},
   "source": [
    "### Answer: The easily mistaken part is:\n",
    "<span style = \"color:red\"> You can't use the column aliases you defined in a query in the same query. </span>\n",
    "For example, in the query to create table alias t1, we cannot use num_answer or num_show. The following code will report error:"
   ]
  },
  {
   "cell_type": "raw",
   "metadata": {},
   "source": [
    "FROM (SELECT question_id AS survey_log,\n",
    "             SUM(CASE WHEN action = \"answer\" THEN 1 ELSE 0 END) AS num_answer,\n",
    "             SUM(CASE WHEN action = \"show\" THEN 1 ELSE 0 END) AS num_show\n",
    "      FROM survey_log\n",
    "      GROUP BY question_id\n",
    "      ORDER BY (num_answer / num_show) DESC) t1"
   ]
  },
  {
   "cell_type": "markdown",
   "metadata": {},
   "source": [
    "### Here is the answer:"
   ]
  },
  {
   "cell_type": "raw",
   "metadata": {},
   "source": [
    "SELECT survey_log\n",
    "FROM (SELECT question_id AS survey_log,\n",
    "             SUM(CASE WHEN action = \"answer\" THEN 1 ELSE 0 END) AS num_answer,\n",
    "             SUM(CASE WHEN action = \"show\" THEN 1 ELSE 0 END) AS num_show\n",
    "      FROM survey_log\n",
    "      GROUP BY question_id) t1\n",
    "ORDER BY (t1.num_answer / t1.num_show) DESC\n",
    "LIMIT 1;"
   ]
  },
  {
   "cell_type": "markdown",
   "metadata": {},
   "source": [
    "### 579. Find Cumulative Salary of an Employee (Hard)"
   ]
  },
  {
   "cell_type": "raw",
   "metadata": {},
   "source": [
    "The Employee table holds the salary information in a year.\n",
    "\n",
    "Write a SQL to get the cumulative sum of an employee's salary over a period of 3 months but exclude the most recent month.\n",
    "\n",
    "The result should be displayed by 'Id' ascending, and then by 'Month' descending.\n",
    "\n",
    "Example\n",
    "Input\n",
    "\n",
    "| Id | Month | Salary |\n",
    "|----|-------|--------|\n",
    "| 1  | 1     | 20     |\n",
    "| 2  | 1     | 20     |\n",
    "| 1  | 2     | 30     |\n",
    "| 2  | 2     | 30     |\n",
    "| 3  | 2     | 40     |\n",
    "| 1  | 3     | 40     |\n",
    "| 3  | 3     | 60     |\n",
    "| 1  | 4     | 60     |\n",
    "| 3  | 4     | 70     |\n",
    "Output\n",
    "\n",
    "| Id | Month | Salary |\n",
    "|----|-------|--------|\n",
    "| 1  | 3     | 90     |\n",
    "| 1  | 2     | 50     |\n",
    "| 1  | 1     | 20     |\n",
    "| 2  | 1     | 20     |\n",
    "| 3  | 3     | 100    |\n",
    "| 3  | 2     | 40     |\n",
    " \n",
    "\n",
    "Explanation\n",
    "Employee '1' has 3 salary records for the following 3 months except the most recent month '4': salary 40 for month '3', 30 for month '2' and 20 for month '1'\n",
    "So the cumulative sum of salary of this employee over 3 months is 90(40+30+20), 50(30+20) and 20 respectively.\n",
    "\n",
    "| Id | Month | Salary |\n",
    "|----|-------|--------|\n",
    "| 1  | 3     | 90     |\n",
    "| 1  | 2     | 50     |\n",
    "| 1  | 1     | 20     |\n",
    "Employee '2' only has one salary record (month '1') except its most recent month '2'.\n",
    "| Id | Month | Salary |\n",
    "|----|-------|--------|\n",
    "| 2  | 1     | 20     |\n",
    " \n",
    "\n",
    "Employ '3' has two salary records except its most recent pay month '4': month '3' with 60 and month '2' with 40. So the cumulative salary is as following.\n",
    "| Id | Month | Salary |\n",
    "|----|-------|--------|\n",
    "| 3  | 3     | 100    |\n",
    "| 3  | 2     | 40     |"
   ]
  },
  {
   "cell_type": "markdown",
   "metadata": {},
   "source": [
    "### Answer: \n",
    "<span style = \"color:red\"> WHERE cannot use the column alias defined in the same query. The basic logic to get cumulative sum is to use JOIN .. ON t1.key = t2.key - 1. </span>\n",
    "+ table maxmonth joins Employee E1 ON (maxmonth.id = E1.id AND maxmonth.month > E1.month) is to get all months without max_month;\n",
    "+ then join Employee E2 ON (E2.id = E1.id AND E2.month = E1.month - 1) is to get a table like (similarly for E3):\n",
    "\n",
    "id | month | E1.Salary | E2.Salary\n",
    "1 .   1 .    20 .         null"
   ]
  },
  {
   "cell_type": "raw",
   "metadata": {},
   "source": [
    "SELECT\n",
    "    E1.id,\n",
    "    E1.month,\n",
    "    (IFNULL(E1.salary, 0) + IFNULL(E2.salary, 0) + IFNULL(E3.salary, 0)) AS Salary\n",
    "FROM\n",
    "    (SELECT\n",
    "        id, MAX(month) AS month\n",
    "    FROM\n",
    "        Employee\n",
    "    GROUP BY id\n",
    "    HAVING COUNT(*) > 1) AS maxmonth      ---- table maxmonth\n",
    "        LEFT JOIN\n",
    "    Employee E1 ON (maxmonth.id = E1.id\n",
    "        AND maxmonth.month > E1.month)\n",
    "        LEFT JOIN\n",
    "    Employee E2 ON (E2.id = E1.id\n",
    "        AND E2.month = E1.month - 1)\n",
    "        LEFT JOIN\n",
    "    Employee E3 ON (E3.id = E1.id\n",
    "        AND E3.month = E1.month - 2)\n",
    "ORDER BY id ASC , month DESC\n",
    ";\n",
    "\n",
    "\n",
    "\n",
    "--- More complicated codes if follow my original logics\n",
    "SELECT Id, Month, Cum_Salary AS Salary\n",
    "FROM (\n",
    "      SELECT Id, Month, Salary,\n",
    "            (CASE \n",
    "                WHEN @record = Id THEN @cum_salary := @cum_salary + Salary\n",
    "                WHEN @record <> @record := Id THEN @cum_salary := Salary \n",
    "             END) AS Cum_Salary\n",
    "      FROM (SELECT Id, Month, Salary, max_month\n",
    "            FROM Employee\n",
    "            LEFT JOIN (SELECT Id, MAX(Month) AS max_month\n",
    "                       FROM Employee\n",
    "                       GROUP BY Id) t1\n",
    "            USING (Id)\n",
    "            WHERE Month < max_month\n",
    "            ORDER BY Id, Month) t2,\n",
    "            (SELECT @record := 1, @cum_salary := 0) tmp2) t3\n",
    "ORDER BY Id, Month DESC\n",
    ";"
   ]
  },
  {
   "cell_type": "markdown",
   "metadata": {},
   "source": [
    "### 580. Count Student Number in Departments (Medium)"
   ]
  },
  {
   "cell_type": "raw",
   "metadata": {},
   "source": [
    "A university uses 2 data tables, student and department, to store data about its students and the departments associated with each major.\n",
    "\n",
    "Write a query to print the respective department name and number of students majoring in each department for all departments in the department table (even ones with no current students).\n",
    "\n",
    "Sort your results by descending number of students; if two or more departments have the same number of students, then sort those departments alphabetically by department name.\n",
    "\n",
    "The student is described as follow:\n",
    "\n",
    "| Column Name  | Type      |\n",
    "|--------------|-----------|\n",
    "| student_id   | Integer   |\n",
    "| student_name | String    |\n",
    "| gender       | Character |\n",
    "| dept_id      | Integer   |\n",
    "where student_id is the student's ID number, student_name is the student's name, gender is their gender, and dept_id is the department ID associated with their declared major.\n",
    "\n",
    "And the department table is described as below:\n",
    "\n",
    "| Column Name | Type    |\n",
    "|-------------|---------|\n",
    "| dept_id     | Integer |\n",
    "| dept_name   | String  |\n",
    "where dept_id is the department's ID number and dept_name is the department name.\n",
    "\n",
    "Here is an example input:\n",
    "student table:\n",
    "\n",
    "| student_id | student_name | gender | dept_id |\n",
    "|------------|--------------|--------|---------|\n",
    "| 1          | Jack         | M      | 1       |\n",
    "| 2          | Jane         | F      | 1       |\n",
    "| 3          | Mark         | M      | 2       |\n",
    "department table:\n",
    "\n",
    "| dept_id | dept_name   |\n",
    "|---------|-------------|\n",
    "| 1       | Engineering |\n",
    "| 2       | Science     |\n",
    "| 3       | Law         |\n",
    "The Output should be:\n",
    "\n",
    "| dept_name   | student_number |\n",
    "|-------------|----------------|\n",
    "| Engineering | 2              |\n",
    "| Science     | 1              |\n",
    "| Law         | 0              |"
   ]
  },
  {
   "cell_type": "markdown",
   "metadata": {},
   "source": [
    "### Answer:"
   ]
  },
  {
   "cell_type": "raw",
   "metadata": {},
   "source": [
    "SELECT dept_name, COUNT(student_id) AS student_number\n",
    "FROM department\n",
    "LEFT JOIN student \n",
    "USING (dept_id)\n",
    "GROUP BY dept_id\n",
    "ORDER BY student_number DESC, dept_name;"
   ]
  },
  {
   "cell_type": "markdown",
   "metadata": {},
   "source": [
    "### 584. Find Customer Referee (Easy)"
   ]
  },
  {
   "cell_type": "raw",
   "metadata": {},
   "source": [
    "Given a table customer holding customers information and the referee.\n",
    "\n",
    "+------+------+-----------+\n",
    "| id   | name | referee_id|\n",
    "+------+------+-----------+\n",
    "|    1 | Will |      NULL |\n",
    "|    2 | Jane |      NULL |\n",
    "|    3 | Alex |         2 |\n",
    "|    4 | Bill |      NULL |\n",
    "|    5 | Zack |         1 |\n",
    "|    6 | Mark |         2 |\n",
    "+------+------+-----------+\n",
    "Write a query to return the list of customers NOT referred by the person with id '2'.\n",
    "\n",
    "For the sample data above, the result is:\n",
    "\n",
    "+------+\n",
    "| name |\n",
    "+------+\n",
    "| Will |\n",
    "| Jane |\n",
    "| Bill |\n",
    "| Zack |\n",
    "+------+"
   ]
  },
  {
   "cell_type": "markdown",
   "metadata": {},
   "source": [
    "### Answer:"
   ]
  },
  {
   "cell_type": "raw",
   "metadata": {},
   "source": [
    "SELECT name\n",
    "FROM customer\n",
    "WHERE referee_id != 2 OR referee_id IS NULL;"
   ]
  },
  {
   "cell_type": "markdown",
   "metadata": {},
   "source": [
    "### 585. Investments in 2016 (Medium)"
   ]
  },
  {
   "cell_type": "raw",
   "metadata": {},
   "source": [
    "Write a query to print the sum of all total investment values in 2016 (TIV_2016), to a scale of 2 decimal places, for all policy holders who meet the following criteria:\n",
    "\n",
    "Have the same TIV_2015 value as one or more other policyholders.\n",
    "Are not located in the same city as any other policyholder (i.e.: the (latitude, longitude) attribute pairs must be unique).\n",
    "Input Format:\n",
    "The insurance table is described as follows:\n",
    "\n",
    "| Column Name | Type          |\n",
    "|-------------|---------------|\n",
    "| PID         | INTEGER(11)   |\n",
    "| TIV_2015    | NUMERIC(15,2) |\n",
    "| TIV_2016    | NUMERIC(15,2) |\n",
    "| LAT         | NUMERIC(5,2)  |\n",
    "| LON         | NUMERIC(5,2)  |\n",
    "where PID is the policyholder's policy ID, TIV_2015 is the total investment value in 2015, TIV_2016 is the total investment value in 2016, LAT is the latitude of the policy holder's city, and LON is the longitude of the policy holder's city.\n",
    "\n",
    "Sample Input\n",
    "\n",
    "| PID | TIV_2015 | TIV_2016 | LAT | LON |\n",
    "|-----|----------|----------|-----|-----|\n",
    "| 1   | 10       | 5        | 10  | 10  |\n",
    "| 2   | 20       | 20       | 20  | 20  |\n",
    "| 3   | 10       | 30       | 20  | 20  |\n",
    "| 4   | 10       | 40       | 40  | 40  |\n",
    "Sample Output\n",
    "\n",
    "| TIV_2016 |\n",
    "|----------|\n",
    "| 45.00    |\n",
    "Explanation\n",
    "\n",
    "The first record in the table, like the last record, meets both of the two criteria.\n",
    "The TIV_2015 value '10' is as the same as the third and forth record, and its location unique.\n",
    "\n",
    "The second record does not meet any of the two criteria. Its TIV_2015 is not like any other policyholders.\n",
    "\n",
    "And its location is the same with the third record, which makes the third record fail, too.\n",
    "\n",
    "So, the result is the sum of TIV_2016 of the first and last record, which is 45."
   ]
  },
  {
   "cell_type": "markdown",
   "metadata": {},
   "source": [
    "### Answer:"
   ]
  },
  {
   "cell_type": "raw",
   "metadata": {},
   "source": [
    "SELECT\n",
    "    SUM(insurance.TIV_2016) AS TIV_2016\n",
    "FROM\n",
    "    insurance\n",
    "WHERE\n",
    "    insurance.TIV_2015 IN\n",
    "    (\n",
    "      SELECT\n",
    "        TIV_2015\n",
    "      FROM\n",
    "        insurance\n",
    "      GROUP BY TIV_2015\n",
    "      HAVING COUNT(*) > 1\n",
    "    )\n",
    "    AND CONCAT(LAT, LON) IN\n",
    "    (\n",
    "      SELECT\n",
    "        CONCAT(LAT, LON)\n",
    "      FROM\n",
    "        insurance\n",
    "      GROUP BY LAT , LON\n",
    "      HAVING COUNT(*) = 1\n",
    "    )\n",
    ";"
   ]
  },
  {
   "cell_type": "markdown",
   "metadata": {},
   "source": [
    "### 586. Customer Placing the Largest Number of Orders (Easy)"
   ]
  },
  {
   "cell_type": "raw",
   "metadata": {},
   "source": [
    "Query the customer_number from the orders table for the customer who has placed the largest number of orders.\n",
    "\n",
    "It is guaranteed that exactly one customer will have placed more orders than any other customer.\n",
    "\n",
    "The orders table is defined as follows:\n",
    "\n",
    "| Column            | Type      |\n",
    "|-------------------|-----------|\n",
    "| order_number (PK) | int       |\n",
    "| customer_number   | int       |\n",
    "| order_date        | date      |\n",
    "| required_date     | date      |\n",
    "| shipped_date      | date      |\n",
    "| status            | char(15)  |\n",
    "| comment           | char(200) |\n",
    "Sample Input\n",
    "\n",
    "| order_number | customer_number | order_date | required_date | shipped_date | status | comment |\n",
    "|--------------|-----------------|------------|---------------|--------------|--------|---------|\n",
    "| 1            | 1               | 2017-04-09 | 2017-04-13    | 2017-04-12   | Closed |         |\n",
    "| 2            | 2               | 2017-04-15 | 2017-04-20    | 2017-04-18   | Closed |         |\n",
    "| 3            | 3               | 2017-04-16 | 2017-04-25    | 2017-04-20   | Closed |         |\n",
    "| 4            | 3               | 2017-04-18 | 2017-04-28    | 2017-04-25   | Closed |         |\n",
    "Sample Output\n",
    "\n",
    "| customer_number |\n",
    "|-----------------|\n",
    "| 3               |\n",
    "Explanation\n",
    "\n",
    "The customer with number '3' has two orders, which is greater than either customer '1' or '2' because each of them  only has one order. \n",
    "So the result is customer_number '3'.\n",
    "Follow up: What if more than one customer have the largest number of orders, can you find all the customer_number in this case?"
   ]
  },
  {
   "cell_type": "markdown",
   "metadata": {},
   "source": [
    "### Answer:"
   ]
  },
  {
   "cell_type": "raw",
   "metadata": {},
   "source": [
    "SELECT Customer_number\n",
    "FROM orders\n",
    "GROUP BY Customer_number\n",
    "ORDER BY COUNT(*) DESC\n",
    "LIMIT 1;"
   ]
  },
  {
   "cell_type": "markdown",
   "metadata": {},
   "source": [
    "### 595. Big Countries (Easy)"
   ]
  },
  {
   "cell_type": "raw",
   "metadata": {},
   "source": [
    "There is a table World\n",
    "\n",
    "+-----------------+------------+------------+--------------+---------------+\n",
    "| name            | continent  | area       | population   | gdp           |\n",
    "+-----------------+------------+------------+--------------+---------------+\n",
    "| Afghanistan     | Asia       | 652230     | 25500100     | 20343000      |\n",
    "| Albania         | Europe     | 28748      | 2831741      | 12960000      |\n",
    "| Algeria         | Africa     | 2381741    | 37100000     | 188681000     |\n",
    "| Andorra         | Europe     | 468        | 78115        | 3712000       |\n",
    "| Angola          | Africa     | 1246700    | 20609294     | 100990000     |\n",
    "+-----------------+------------+------------+--------------+---------------+\n",
    "A country is big if it has an area of bigger than 3 million square km or a population of more than 25 million.\n",
    "\n",
    "Write a SQL solution to output big countries' name, population and area.\n",
    "\n",
    "For example, according to the above table, we should output:\n",
    "\n",
    "+--------------+-------------+--------------+\n",
    "| name         | population  | area         |\n",
    "+--------------+-------------+--------------+\n",
    "| Afghanistan  | 25500100    | 652230       |\n",
    "| Algeria      | 37100000    | 2381741      |\n",
    "+--------------+-------------+--------------+"
   ]
  },
  {
   "cell_type": "markdown",
   "metadata": {},
   "source": [
    "### Answer:"
   ]
  },
  {
   "cell_type": "raw",
   "metadata": {},
   "source": [
    "SELECT name, population, area\n",
    "FROM World\n",
    "WHERE area > 3000000 OR population > 25000000;"
   ]
  },
  {
   "cell_type": "markdown",
   "metadata": {},
   "source": [
    "### 596. Classes More Than 5 Students (Easy)"
   ]
  },
  {
   "cell_type": "raw",
   "metadata": {},
   "source": [
    "There is a table courses with columns: student and class\n",
    "\n",
    "Please list out all classes which have more than or equal to 5 students.\n",
    "\n",
    "For example, the table:\n",
    "\n",
    "+---------+------------+\n",
    "| student | class      |\n",
    "+---------+------------+\n",
    "| A       | Math       |\n",
    "| B       | English    |\n",
    "| C       | Math       |\n",
    "| D       | Biology    |\n",
    "| E       | Math       |\n",
    "| F       | Computer   |\n",
    "| G       | Math       |\n",
    "| H       | Math       |\n",
    "| I       | Math       |\n",
    "+---------+------------+\n",
    "Should output:\n",
    "\n",
    "+---------+\n",
    "| class   |\n",
    "+---------+\n",
    "| Math    |\n",
    "+---------+\n",
    " \n",
    "\n",
    "Note:\n",
    "The students should not be counted duplicate in each course."
   ]
  },
  {
   "cell_type": "markdown",
   "metadata": {},
   "source": [
    "### Answer:"
   ]
  },
  {
   "cell_type": "raw",
   "metadata": {},
   "source": [
    "SELECT class\n",
    "FROM courses\n",
    "GROUP BY class\n",
    "HAVING COUNT(DISTINCT student) >= 5;"
   ]
  },
  {
   "cell_type": "markdown",
   "metadata": {},
   "source": [
    "### 597. Friend Requests I: Overall Acceptance Rate (Easy)"
   ]
  },
  {
   "cell_type": "raw",
   "metadata": {},
   "source": [
    "In social network like Facebook or Twitter, people send friend requests and accept others’ requests as well. Now given two tables as below:\n",
    " \n",
    "\n",
    "Table: friend_request\n",
    "| sender_id | send_to_id |request_date|\n",
    "|-----------|------------|------------|\n",
    "| 1         | 2          | 2016_06-01 |\n",
    "| 1         | 3          | 2016_06-01 |\n",
    "| 1         | 4          | 2016_06-01 |\n",
    "| 2         | 3          | 2016_06-02 |\n",
    "| 3         | 4          | 2016-06-09 |\n",
    " \n",
    "\n",
    "Table: request_accepted\n",
    "| requester_id | accepter_id |accept_date |\n",
    "|--------------|-------------|------------|\n",
    "| 1            | 2           | 2016_06-03 |\n",
    "| 1            | 3           | 2016-06-08 |\n",
    "| 2            | 3           | 2016-06-08 |\n",
    "| 3            | 4           | 2016-06-09 |\n",
    "| 3            | 4           | 2016-06-10 |\n",
    " \n",
    "\n",
    "Write a query to find the overall acceptance rate of requests rounded to 2 decimals, which is the number of acceptance divide the number of requests.\n",
    " \n",
    "\n",
    "For the sample data above, your query should return the following result.\n",
    " \n",
    "\n",
    "|accept_rate|\n",
    "|-----------|\n",
    "|       0.80|\n",
    " \n",
    "\n",
    "Note:\n",
    "The accepted requests are not necessarily from the table friend_request. In this case, you just need to simply count the total accepted requests (no matter whether they are in the original requests), and divide it by the number of requests to get the acceptance rate.\n",
    "It is possible that a sender sends multiple requests to the same receiver, and a request could be accepted more than once. In this case, the ‘duplicated’ requests or acceptances are only counted once.\n",
    "If there is no requests at all, you should return 0.00 as the accept_rate.\n",
    " \n",
    "\n",
    "Explanation: There are 4 unique accepted requests, and there are 5 requests in total. So the rate is 0.80.\n",
    " \n",
    "\n",
    "Follow-up:\n",
    "Can you write a query to return the accept rate but for every month?\n",
    "How about the cumulative accept rate for every day?"
   ]
  },
  {
   "cell_type": "markdown",
   "metadata": {},
   "source": [
    "### Answer: The tricky part is that request_accepted table has duplicate (requester_id, accepter_id)"
   ]
  },
  {
   "cell_type": "raw",
   "metadata": {},
   "source": [
    "SELECT ROUND(IFNULL((SELECT COUNT(*) FROM (SELECT DISTINCT requester_id, accepter_id FROM request_accepted) AS A)/\n",
    "                    (SELECT COUNT(*) FROM (SELECT DISTINCT sender_id, send_to_id FROM friend_request) AS B), 0), 2)\n",
    "                    AS accept_rate\n",
    "\n",
    "    \n",
    "--- Method 2:\n",
    "SELECT ROUND(SUM(CASE WHEN accepter_id IS NULL THEN 0 ELSE 1 END)/\n",
    "             SUM(CASE WHEN sender_id IS NULL THEN 0 ELSE 1 END), 2) AS accept_rate\n",
    "FROM (SELECT DISTINCT t1.sender_id, t2.accepter_id\n",
    "      FROM friend_request t1\n",
    "      LEFT JOIN request_accepted t2\n",
    "      ON t1.sender_id = t2.requester_id AND t1.send_to_id = t2.accepter_id) TMP;"
   ]
  },
  {
   "cell_type": "markdown",
   "metadata": {},
   "source": [
    "### 601. Human Traffic of Stadium (Hard)"
   ]
  },
  {
   "cell_type": "raw",
   "metadata": {},
   "source": [
    "X city built a new stadium, each day many people visit it and the stats are saved as these columns: id, visit_date, people\n",
    "\n",
    "Please write a query to display the records which have 3 or more consecutive rows and the amount of people more than 100(inclusive).\n",
    "\n",
    "For example, the table stadium:\n",
    "+------+------------+-----------+\n",
    "| id   | visit_date | people    |\n",
    "+------+------------+-----------+\n",
    "| 1    | 2017-01-01 | 10        |\n",
    "| 2    | 2017-01-02 | 109       |\n",
    "| 3    | 2017-01-03 | 150       |\n",
    "| 4    | 2017-01-04 | 99        |\n",
    "| 5    | 2017-01-05 | 145       |\n",
    "| 6    | 2017-01-06 | 1455      |\n",
    "| 7    | 2017-01-07 | 199       |\n",
    "| 8    | 2017-01-08 | 188       |\n",
    "+------+------------+-----------+\n",
    "For the sample data above, the output is:\n",
    "\n",
    "+------+------------+-----------+\n",
    "| id   | visit_date | people    |\n",
    "+------+------------+-----------+\n",
    "| 5    | 2017-01-05 | 145       |\n",
    "| 6    | 2017-01-06 | 1455      |\n",
    "| 7    | 2017-01-07 | 199       |\n",
    "| 8    | 2017-01-08 | 188       |\n",
    "+------+------------+-----------+\n",
    "Note:\n",
    "Each day only have one row record, and the dates are increasing with id increasing."
   ]
  },
  {
   "cell_type": "markdown",
   "metadata": {},
   "source": [
    "### Answer: \n",
    "+ Method 1: union 3 tables and list each condition where t1.id occurs in the beginning, middle or end of the sequence.\n",
    "+ Method 2: window function using lead and lag, still need to discuss different combinations.\n",
    "+ <span style = \"color:red\"> Method 3 </span>: create two variables to flag the beginning and the end of the sequence:\n",
    "    + Num_end flags the end of the sequence where 1 means the last part of the sequence, and 2 means the second last part\n",
    "    + Num_begin flags the beginning of the sequence where 1 means the first part of the sequence, and 2 means the second part\n",
    "    + Therefore, to select consective 3 parts we just need to ensure that Num_end + Num_begin >= 3."
   ]
  },
  {
   "cell_type": "raw",
   "metadata": {},
   "source": [
    "--- Method 1:\n",
    "SELECT DISTINCT t1.*\n",
    "FROM stadium t1, stadium t2, stadium t3\n",
    "WHERE t1.people >= 100 AND t2.people >= 100 AND t3.people >= 100 AND\n",
    "((t1.id - t2.id = 1 and t1.id - t3.id = 2 and t2.id - t3.id =1)  -- t1, t2, t3\n",
    "    OR\n",
    "  (t2.id - t1.id = 1 and t2.id - t3.id = 2 and t1.id - t3.id =1) -- t2, t1, t3\n",
    "    OR\n",
    "  (t3.id - t2.id = 1 and t2.id - t1.id =1 and t3.id - t1.id = 2) -- t3, t2, t1\n",
    ")\n",
    "ORDER BY t1.id;\n",
    "\n",
    "\n",
    "--- Method 2: \n",
    "SELECT s1.id, s1.visit_date, s1.people\n",
    "FROM(SELECT s.id, s.visit_date, s.people, \n",
    "    lead(people) OVER (ORDER BY id ASC) as next1,\n",
    "    lead(people,2) OVER (ORDER BY id ASC ) as next2,\n",
    "    lag(people) OVER (ORDER BY id ASC) as prev1,\n",
    "    lag(people,2) OVER (ORDER BY id ASC ) as prev2\n",
    "    FROM stadium as s) AS s1\t\n",
    "WHERE (people>=100 AND ((next1>=100 and next2>=100)\n",
    "                        OR (prev1>=100 and prev2>=100)\n",
    "                        OR (prev1>=100 and next1>=100)));\n",
    "                        \n",
    "                        \n",
    "--- Method 3:\n",
    "SELECT id, visit_date, people\n",
    "FROM (\n",
    "      SELECT *, @b := (@b + 1) * (people >= 100) AS Num_begin   --- beginning of the sequence\n",
    "\t  FROM (\n",
    "            SELECT *, @a := (@a + 1) * (people >= 100) AS Num_end  --- end of the sequence\n",
    "            FROM stadium, (SELECT @a := 0) tmp1\n",
    "            ORDER BY id desc) t1,\n",
    "            (SELECT @b := 0) tmp2\n",
    "      ORDER BY id) t2\n",
    "WHERE Num_end + Num_begin > 3;\n"
   ]
  },
  {
   "cell_type": "markdown",
   "metadata": {},
   "source": [
    "### 607. Sales Person (Easy)"
   ]
  },
  {
   "cell_type": "raw",
   "metadata": {},
   "source": [
    "Description\n",
    "\n",
    "Given three tables: salesperson, company, orders.\n",
    "Output all the names in the table salesperson, who didn’t have sales to company 'RED'.\n",
    "\n",
    "Example\n",
    "Input\n",
    "\n",
    "Table: salesperson\n",
    "\n",
    "+----------+------+--------+-----------------+-----------+\n",
    "| sales_id | name | salary | commission_rate | hire_date |\n",
    "+----------+------+--------+-----------------+-----------+\n",
    "|   1      | John | 100000 |     6           | 4/1/2006  |\n",
    "|   2      | Amy  | 120000 |     5           | 5/1/2010  |\n",
    "|   3      | Mark | 65000  |     12          | 12/25/2008|\n",
    "|   4      | Pam  | 25000  |     25          | 1/1/2005  |\n",
    "|   5      | Alex | 50000  |     10          | 2/3/2007  |\n",
    "+----------+------+--------+-----------------+-----------+\n",
    "The table salesperson holds the salesperson information. Every salesperson has a sales_id and a name.\n",
    "Table: company\n",
    "\n",
    "+---------+--------+------------+\n",
    "| com_id  |  name  |    city    |\n",
    "+---------+--------+------------+\n",
    "|   1     |  RED   |   Boston   |\n",
    "|   2     | ORANGE |   New York |\n",
    "|   3     | YELLOW |   Boston   |\n",
    "|   4     | GREEN  |   Austin   |\n",
    "+---------+--------+------------+\n",
    "The table company holds the company information. Every company has a com_id and a name.\n",
    "Table: orders\n",
    "\n",
    "+----------+------------+---------+----------+--------+\n",
    "| order_id | order_date | com_id  | sales_id | amount |\n",
    "+----------+------------+---------+----------+--------+\n",
    "| 1        |   1/1/2014 |    3    |    4     | 100000 |\n",
    "| 2        |   2/1/2014 |    4    |    5     | 5000   |\n",
    "| 3        |   3/1/2014 |    1    |    1     | 50000  |\n",
    "| 4        |   4/1/2014 |    1    |    4     | 25000  |\n",
    "+----------+----------+---------+----------+--------+\n",
    "The table orders holds the sales record information, salesperson and customer company are represented by sales_id and com_id.\n",
    "output\n",
    "\n",
    "+------+\n",
    "| name | \n",
    "+------+\n",
    "| Amy  | \n",
    "| Mark | \n",
    "| Alex |\n",
    "+------+\n",
    "Explanation\n",
    "\n",
    "According to order '3' and '4' in table orders, it is easy to tell only salesperson 'John' and 'Alex' have sales to company 'RED',\n",
    "so we need to output all the other names in table salesperson."
   ]
  },
  {
   "cell_type": "markdown",
   "metadata": {},
   "source": [
    "### Answer:"
   ]
  },
  {
   "cell_type": "raw",
   "metadata": {},
   "source": [
    "SELECT name\n",
    "FROM salesperson\n",
    "WHERE sales_id NOT IN (SELECT DISTINCT sales_id \n",
    "                       FROM orders\n",
    "                       WHERE com_id = (SELECT com_id FROM company\n",
    "                                        WHERE name = \"RED\"));"
   ]
  },
  {
   "cell_type": "markdown",
   "metadata": {},
   "source": [
    "### 602. Friend Requests II: Who Has the Most Friends (Medium)"
   ]
  },
  {
   "cell_type": "raw",
   "metadata": {},
   "source": [
    "In social network like Facebook or Twitter, people send friend requests and accept others' requests as well.\n",
    " \n",
    "\n",
    "Table request_accepted holds the data of friend acceptance, while requester_id and accepter_id both are the id of a person.\n",
    " \n",
    "\n",
    "| requester_id | accepter_id | accept_date|\n",
    "|--------------|-------------|------------|\n",
    "| 1            | 2           | 2016_06-03 |\n",
    "| 1            | 3           | 2016-06-08 |\n",
    "| 2            | 3           | 2016-06-08 |\n",
    "| 3            | 4           | 2016-06-09 |\n",
    "Write a query to find the the people who has most friends and the most friends number. For the sample data above, the result is:\n",
    "| id | num |\n",
    "|----|-----|\n",
    "| 3  | 3   |\n",
    "Note:\n",
    "It is guaranteed there is only 1 people having the most friends.\n",
    "The friend request could only been accepted once, which mean there is no multiple records with the same requester_id and accepter_id value.\n",
    " \n",
    "\n",
    "Explanation:\n",
    "The person with id '3' is a friend of people '1', '2' and '4', so he has 3 friends in total, which is the most number than any others.\n",
    " \n",
    "\n",
    "Follow-up:\n",
    "In the real world, multiple people could have the same most number of friends, can you find all these people in this case?"
   ]
  },
  {
   "cell_type": "markdown",
   "metadata": {},
   "source": [
    "### Answer: The tricky part is the friends of a person could be the one who requests and the one who accepts."
   ]
  },
  {
   "cell_type": "raw",
   "metadata": {},
   "source": [
    "SELECT ids AS id, COUNT(*) AS num\n",
    "FROM (\n",
    "      SELECT requester_id AS ids FROM request_accepted\n",
    "      UNION ALL\n",
    "      SELECT accepter_id AS ids FROM request_accepted) AS t1\n",
    "GROUP BY ids\n",
    "ORDER BY num DESC \n",
    "LIMIT 1;"
   ]
  },
  {
   "cell_type": "markdown",
   "metadata": {},
   "source": [
    "### 603. Consecutive Available Seats (Easy)"
   ]
  },
  {
   "cell_type": "raw",
   "metadata": {},
   "source": [
    "Several friends at a cinema ticket office would like to reserve consecutive available seats.\n",
    "Can you help to query all the consecutive available seats order by the seat_id using the following cinema table?\n",
    "| seat_id | free |\n",
    "|---------|------|\n",
    "| 1       | 1    |\n",
    "| 2       | 0    |\n",
    "| 3       | 1    |\n",
    "| 4       | 1    |\n",
    "| 5       | 1    |\n",
    " \n",
    "\n",
    "Your query should return the following result for the sample case above.\n",
    " \n",
    "\n",
    "| seat_id |\n",
    "|---------|\n",
    "| 3       |\n",
    "| 4       |\n",
    "| 5       |\n",
    "Note:\n",
    "The seat_id is an auto increment int, and free is bool ('1' means free, and '0' means occupied.).\n",
    "Consecutive available seats are more than 2(inclusive) seats consecutively available."
   ]
  },
  {
   "cell_type": "markdown",
   "metadata": {},
   "source": [
    "### Answer: The tricky part is:\n",
    "+ The consective seats or neighboring seats are obtained by the absolute value of the distance of seats: ABS(t1.seat_id - t2.seat_id) = 1\n",
    "+ Need to use DISTINCT seat_id as we may select multiple seat_ids!"
   ]
  },
  {
   "cell_type": "raw",
   "metadata": {},
   "source": [
    "SELECT DISTINCT t1.seat_id \n",
    "FROM cinema t1\n",
    "JOIN cinema t2\n",
    "ON (ABS(t1.seat_id - t2.seat_id) = 1 AND t1.free = 1 AND t2.free = 1)\n",
    "ORDER BY t1.seat_id;"
   ]
  },
  {
   "cell_type": "markdown",
   "metadata": {},
   "source": [
    "### 608. Tree Node (Medium)"
   ]
  },
  {
   "cell_type": "raw",
   "metadata": {},
   "source": [
    "Given a table tree, id is identifier of the tree node and p_id is its parent node's id.\n",
    "\n",
    "+----+------+\n",
    "| id | p_id |\n",
    "+----+------+\n",
    "| 1  | null |\n",
    "| 2  | 1    |\n",
    "| 3  | 1    |\n",
    "| 4  | 2    |\n",
    "| 5  | 2    |\n",
    "+----+------+\n",
    "Each node in the tree can be one of three types:\n",
    "Leaf: if the node is a leaf node.\n",
    "Root: if the node is the root of the tree.\n",
    "Inner: If the node is neither a leaf node nor a root node.\n",
    " \n",
    "\n",
    "Write a query to print the node id and the type of the node. Sort your output by the node id. The result for the above sample is:\n",
    " \n",
    "\n",
    "+----+------+\n",
    "| id | Type |\n",
    "+----+------+\n",
    "| 1  | Root |\n",
    "| 2  | Inner|\n",
    "| 3  | Leaf |\n",
    "| 4  | Leaf |\n",
    "| 5  | Leaf |\n",
    "+----+------+\n",
    " \n",
    "\n",
    "Explanation\n",
    "\n",
    " \n",
    "\n",
    "Node '1' is root node, because its parent node is NULL and it has child node '2' and '3'.\n",
    "Node '2' is inner node, because it has parent node '1' and child node '4' and '5'.\n",
    "Node '3', '4' and '5' is Leaf node, because they have parent node and they don't have child node.\n",
    "\n",
    "And here is the image of the sample tree as below:\n",
    " \n",
    "\n",
    "\t\t\t  1\n",
    "\t\t\t/   \\\n",
    "                      2       3\n",
    "                    /   \\\n",
    "                  4       5\n",
    "Note\n",
    "\n",
    "If there is only one node on the tree, you only need to output its root attributes."
   ]
  },
  {
   "cell_type": "markdown",
   "metadata": {},
   "source": [
    "### Answer:"
   ]
  },
  {
   "cell_type": "raw",
   "metadata": {},
   "source": [
    "SELECT id,\n",
    "       (CASE\n",
    "            WHEN p_id IS NULL THEN \"Root\"\n",
    "            WHEN id IN (SELECT DISTINCT p_id FROM tree WHERE p_id IS NOT NULL) AND p_id IS NOT NULL THEN \"Inner\"\n",
    "            WHEN id NOT IN (SELECT DISTINCT p_id FROM tree WHERE p_id IS NOT NULL) THEN \"Leaf\"\n",
    "       END) AS Type\n",
    "FROM tree\n",
    "ORDER BY id;"
   ]
  },
  {
   "cell_type": "markdown",
   "metadata": {},
   "source": [
    "### 610. Triangle Judgement (Easy)"
   ]
  },
  {
   "cell_type": "raw",
   "metadata": {},
   "source": [
    "A pupil Tim gets homework to identify whether three line segments could possibly form a triangle.\n",
    " \n",
    "\n",
    "However, this assignment is very heavy because there are hundreds of records to calculate.\n",
    " \n",
    "\n",
    "Could you help Tim by writing a query to judge whether these three sides can form a triangle, assuming table triangle holds the length of the three sides x, y and z.\n",
    " \n",
    "\n",
    "| x  | y  | z  |\n",
    "|----|----|----|\n",
    "| 13 | 15 | 30 |\n",
    "| 10 | 20 | 15 |\n",
    "For the sample data above, your query should return the follow result:\n",
    "| x  | y  | z  | triangle |\n",
    "|----|----|----|----------|\n",
    "| 13 | 15 | 30 | No       |\n",
    "| 10 | 20 | 15 | Yes      |"
   ]
  },
  {
   "cell_type": "markdown",
   "metadata": {},
   "source": [
    "### Answer:"
   ]
  },
  {
   "cell_type": "raw",
   "metadata": {},
   "source": [
    "SELECT x, y, z,\n",
    "      (CASE\n",
    "            WHEN x + y <= z OR x + z <= y OR y + z <= x THEN \"No\" ELSE \"Yes\"\n",
    "      END) AS triangle\n",
    "FROM triangle;"
   ]
  },
  {
   "cell_type": "markdown",
   "metadata": {},
   "source": [
    "### 612. Shortest Distance in a Plane (Medium)"
   ]
  },
  {
   "cell_type": "raw",
   "metadata": {},
   "source": [
    "Table point_2d holds the coordinates (x,y) of some unique points (more than two) in a plane.\n",
    " \n",
    "\n",
    "Write a query to find the shortest distance between these points rounded to 2 decimals.\n",
    " \n",
    "\n",
    "| x  | y  |\n",
    "|----|----|\n",
    "| -1 | -1 |\n",
    "| 0  | 0  |\n",
    "| -1 | -2 |\n",
    " \n",
    "\n",
    "The shortest distance is 1.00 from point (-1,-1) to (-1,2). So the output should be:\n",
    " \n",
    "\n",
    "| shortest |\n",
    "|----------|\n",
    "| 1.00     |\n",
    " \n",
    "\n",
    "Note: The longest distance among all the points are less than 10000."
   ]
  },
  {
   "cell_type": "markdown",
   "metadata": {},
   "source": [
    "### Answer:\n",
    "+ Squared uses POW()"
   ]
  },
  {
   "cell_type": "raw",
   "metadata": {},
   "source": [
    "SELECT\n",
    "    ROUND(SQRT(MIN((POW(p1.x - p2.x, 2) + POW(p1.y - p2.y, 2)))), 2) AS shortest\n",
    "FROM point_2d p1 \n",
    "JOIN point_2d p2 \n",
    "ON p1.x != p2.x OR p1.y != p2.y\n",
    ";"
   ]
  },
  {
   "cell_type": "markdown",
   "metadata": {},
   "source": [
    "### 613. Shortest Distance in a Line (Easy)"
   ]
  },
  {
   "cell_type": "raw",
   "metadata": {},
   "source": [
    "Table point holds the x coordinate of some points on x-axis in a plane, which are all integers.\n",
    " \n",
    "\n",
    "Write a query to find the shortest distance between two points in these points.\n",
    " \n",
    "\n",
    "| x   |\n",
    "|-----|\n",
    "| -1  |\n",
    "| 0   |\n",
    "| 2   |\n",
    " \n",
    "\n",
    "The shortest distance is '1' obviously, which is from point '-1' to '0'. So the output is as below:\n",
    " \n",
    "\n",
    "| shortest|\n",
    "|---------|\n",
    "| 1       |\n",
    " \n",
    "\n",
    "Note: Every point is unique, which means there is no duplicates in table point.\n",
    " \n",
    "\n",
    "Follow-up: What if all these points have an id and are arranged from the left most to the right most of x axis?"
   ]
  },
  {
   "cell_type": "markdown",
   "metadata": {},
   "source": [
    "### Answer:"
   ]
  },
  {
   "cell_type": "raw",
   "metadata": {},
   "source": [
    "SELECT MIN(ABS(t1.x - t2.x)) AS shortest\n",
    "FROM point t1\n",
    "JOIN point t2\n",
    "ON t1.x != t2.x;"
   ]
  },
  {
   "cell_type": "markdown",
   "metadata": {},
   "source": [
    "### 614. Second Degree Follower (Medium)"
   ]
  },
  {
   "cell_type": "raw",
   "metadata": {},
   "source": [
    "In facebook, there is a follow table with two columns: followee, follower.\n",
    "\n",
    "Please write a sql query to get the amount of each follower’s follower if he/she has one.\n",
    "\n",
    "For example:\n",
    "\n",
    "+-------------+------------+\n",
    "| followee    | follower   |\n",
    "+-------------+------------+\n",
    "|     A       |     B      |\n",
    "|     B       |     C      |\n",
    "|     B       |     D      |\n",
    "|     D       |     E      |\n",
    "+-------------+------------+\n",
    "should output:\n",
    "+-------------+------------+\n",
    "| follower    | num        |\n",
    "+-------------+------------+\n",
    "|     B       |  2         |\n",
    "|     D       |  1         |\n",
    "+-------------+------------+\n",
    "Explaination:\n",
    "Both B and D exist in the follower list, when as a followee, B's follower is C and D, and D's follower is E. A does not exist in follower list.\n",
    " \n",
    "\n",
    " \n",
    "\n",
    "Note:\n",
    "Followee would not follow himself/herself in all cases.\n",
    "Please display the result in follower's alphabet order.\n"
   ]
  },
  {
   "cell_type": "markdown",
   "metadata": {},
   "source": [
    "### Answer: The tricky part is:\n",
    "+ Follower and follwee are not identical, they may be different in terms of lowercase or uppercase. However, lower and upper case refer to the same person, so we cannot use WHERE follwer IN follwee (as it is case-sensitive);\n",
    "+ WE NEED TO DISPLAY Follower in the case-sensitive format!"
   ]
  },
  {
   "cell_type": "code",
   "execution_count": null,
   "metadata": {},
   "outputs": [],
   "source": [
    "SELECT f1.follower, COUNT(DISTINCT f2.follower) as num\n",
    "FROM follow f1\n",
    "JOIN follow f2 ON f1.follower = f2.followee\n",
    "GROUP BY f1.follower\n",
    "ORDER BY f1.follower;"
   ]
  },
  {
   "cell_type": "markdown",
   "metadata": {},
   "source": [
    "### 615. Average Salary: Departments VS Company (Hard)"
   ]
  },
  {
   "cell_type": "raw",
   "metadata": {},
   "source": [
    "Given two tables as below, write a query to display the comparison result (higher/lower/same) of the average salary of employees in a department to the company's average salary.\n",
    " \n",
    "\n",
    "Table: salary\n",
    "| id | employee_id | amount | pay_date   |\n",
    "|----|-------------|--------|------------|\n",
    "| 1  | 1           | 9000   | 2017-03-31 |\n",
    "| 2  | 2           | 6000   | 2017-03-31 |\n",
    "| 3  | 3           | 10000  | 2017-03-31 |\n",
    "| 4  | 1           | 7000   | 2017-02-28 |\n",
    "| 5  | 2           | 6000   | 2017-02-28 |\n",
    "| 6  | 3           | 8000   | 2017-02-28 |\n",
    " \n",
    "\n",
    "The employee_id column refers to the employee_id in the following table employee.\n",
    " \n",
    "\n",
    "| employee_id | department_id |\n",
    "|-------------|---------------|\n",
    "| 1           | 1             |\n",
    "| 2           | 2             |\n",
    "| 3           | 2             |\n",
    " \n",
    "\n",
    "So for the sample data above, the result is:\n",
    " \n",
    "\n",
    "| pay_month | department_id | comparison  |\n",
    "|-----------|---------------|-------------|\n",
    "| 2017-03   | 1             | higher      |\n",
    "| 2017-03   | 2             | lower       |\n",
    "| 2017-02   | 1             | same        |\n",
    "| 2017-02   | 2             | same        |\n",
    " \n",
    "\n",
    "Explanation\n",
    " \n",
    "\n",
    "In March, the company's average salary is (9000+6000+10000)/3 = 8333.33...\n",
    " \n",
    "\n",
    "The average salary for department '1' is 9000, which is the salary of employee_id '1' since there is only one employee in this department. So the comparison result is 'higher' since 9000 > 8333.33 obviously.\n",
    " \n",
    "\n",
    "The average salary of department '2' is (6000 + 10000)/2 = 8000, which is the average of employee_id '2' and '3'. So the comparison result is 'lower' since 8000 < 8333.33.\n",
    " \n",
    "\n",
    "With he same formula for the average salary comparison in February, the result is 'same' since both the department '1' and '2' have the same average salary with the company, which is 7000."
   ]
  },
  {
   "cell_type": "markdown",
   "metadata": {},
   "source": [
    "### Answer:"
   ]
  },
  {
   "cell_type": "raw",
   "metadata": {},
   "source": [
    "SELECT t1.pay_month, t1.department_id,\n",
    "        (CASE\n",
    "            WHEN avg_department > avg_company THEN \"higher\"\n",
    "            WHEN avg_department < avg_company THEN \"lower\"\n",
    "            ELSE \"same\"\n",
    "       END) AS comparison\n",
    "FROM (\n",
    "SELECT department_id,\n",
    "       DATE_FORMAT(pay_date,'%Y-%m') AS pay_month, \n",
    "       AVG(amount) AS avg_department\n",
    "FROM salary\n",
    "JOIN employee\n",
    "USING (employee_id)\n",
    "GROUP BY department_id, pay_month) t1\n",
    "JOIN (\n",
    "SELECT DATE_FORMAT(pay_date,'%Y-%m') AS pay_month, \n",
    "       AVG(amount) AS avg_company\n",
    "FROM salary\n",
    "GROUP BY pay_month) t2\n",
    "USING (pay_month);"
   ]
  },
  {
   "cell_type": "markdown",
   "metadata": {},
   "source": [
    "### 618. Students Report By Geography (Hard)"
   ]
  },
  {
   "cell_type": "raw",
   "metadata": {},
   "source": [
    "A U.S graduate school has students from Asia, Europe and America. The students' location information are stored in table student as below.\n",
    " \n",
    "\n",
    "| name   | continent |\n",
    "|--------|-----------|\n",
    "| Jack   | America   |\n",
    "| Pascal | Europe    |\n",
    "| Xi     | Asia      |\n",
    "| Jane   | America   |\n",
    " \n",
    "\n",
    "Pivot the continent column in this table so that each name is sorted alphabetically and displayed underneath its corresponding continent. The output headers should be America, Asia and Europe respectively. It is guaranteed that the student number from America is no less than either Asia or Europe.\n",
    " \n",
    "\n",
    "For the sample input, the output is:\n",
    " \n",
    "\n",
    "| America | Asia | Europe |\n",
    "|---------|------|--------|\n",
    "| Jack    | Xi   | Pascal |\n",
    "| Jane    |      |        |\n",
    " \n",
    "\n",
    "Follow-up: If it is unknown which continent has the most students, can you write a query to generate the student report?"
   ]
  },
  {
   "cell_type": "markdown",
   "metadata": {},
   "source": [
    "### Answer: The tricky part is\n",
    "<span style = \"color:red\">We need to use MAX(America) to select the meaningful string, because the derived table contains NULL </span>"
   ]
  },
  {
   "cell_type": "raw",
   "metadata": {},
   "source": [
    "SELECT MAX(America) AS America, MAX(Asia) as Asia, MAX(Europe) AS Europe\n",
    "FROM (\n",
    "    SELECT \n",
    "        CASE WHEN continent = 'America' THEN @r1 := @r1 + 1\n",
    "             WHEN continent = 'Asia'    THEN @r2 := @r2 + 1\n",
    "             WHEN continent = 'Europe'  THEN @r3 := @r3 + 1 END row_id,\n",
    "        CASE WHEN continent = 'America' THEN name END America,\n",
    "        CASE WHEN continent = 'Asia'    THEN name END Asia,\n",
    "        CASE WHEN continent = 'Europe'  THEN name END Europe\n",
    "    FROM student, (SELECT @r1 := 0, @r2 := 0, @r3 := 0) AS row_id\n",
    "    ORDER BY name\n",
    ") t\n",
    "GROUP BY row_id;"
   ]
  },
  {
   "cell_type": "markdown",
   "metadata": {},
   "source": [
    "### 619. Biggest Single Number (Easy)"
   ]
  },
  {
   "cell_type": "raw",
   "metadata": {},
   "source": [
    "Table my_numbers contains many numbers in column num including duplicated ones.\n",
    "Can you write a SQL query to find the biggest number, which only appears once.\n",
    "\n",
    "+---+\n",
    "|num|\n",
    "+---+\n",
    "| 8 |\n",
    "| 8 |\n",
    "| 3 |\n",
    "| 3 |\n",
    "| 1 |\n",
    "| 4 |\n",
    "| 5 |\n",
    "| 6 | \n",
    "For the sample data above, your query should return the following result:\n",
    "+---+\n",
    "|num|\n",
    "+---+\n",
    "| 6 |\n",
    "Note:\n",
    "If there is no such number, just output null."
   ]
  },
  {
   "cell_type": "markdown",
   "metadata": {},
   "source": [
    "### Answer:"
   ]
  },
  {
   "cell_type": "raw",
   "metadata": {},
   "source": [
    "SELECT MAX(single_num) AS num\n",
    "FROM (SELECT num AS single_num\n",
    "     FROM my_numbers\n",
    "     GROUP BY num\n",
    "     HAVING COUNT(*) = 1) tmp;"
   ]
  },
  {
   "cell_type": "markdown",
   "metadata": {},
   "source": [
    "### 620. Not Boring Movies (Easy)"
   ]
  },
  {
   "cell_type": "raw",
   "metadata": {},
   "source": [
    "X city opened a new cinema, many people would like to go to this cinema. The cinema also gives out a poster indicating the movies’ ratings and descriptions.\n",
    "Please write a SQL query to output movies with an odd numbered ID and a description that is not 'boring'. Order the result by rating.\n",
    "\n",
    " \n",
    "\n",
    "For example, table cinema:\n",
    "\n",
    "+---------+-----------+--------------+-----------+\n",
    "|   id    | movie     |  description |  rating   |\n",
    "+---------+-----------+--------------+-----------+\n",
    "|   1     | War       |   great 3D   |   8.9     |\n",
    "|   2     | Science   |   fiction    |   8.5     |\n",
    "|   3     | irish     |   boring     |   6.2     |\n",
    "|   4     | Ice song  |   Fantacy    |   8.6     |\n",
    "|   5     | House card|   Interesting|   9.1     |\n",
    "+---------+-----------+--------------+-----------+\n",
    "For the example above, the output should be:\n",
    "+---------+-----------+--------------+-----------+\n",
    "|   id    | movie     |  description |  rating   |\n",
    "+---------+-----------+--------------+-----------+\n",
    "|   5     | House card|   Interesting|   9.1     |\n",
    "|   1     | War       |   great 3D   |   8.9     |\n",
    "+---------+-----------+--------------+-----------+"
   ]
  },
  {
   "cell_type": "markdown",
   "metadata": {},
   "source": [
    "### Answer:"
   ]
  },
  {
   "cell_type": "raw",
   "metadata": {},
   "source": [
    "SELECT *\n",
    "FROM cinema\n",
    "WHERE description != \"boring\" AND\n",
    "      MOD(id, 2) = 1\n",
    "ORDER BY rating DESC;"
   ]
  },
  {
   "cell_type": "markdown",
   "metadata": {},
   "source": [
    "### 626. Exchange Seats (Medium)"
   ]
  },
  {
   "cell_type": "raw",
   "metadata": {},
   "source": [
    "Mary is a teacher in a middle school and she has a table seat storing students' names and their corresponding seat ids.\n",
    "\n",
    "The column id is continuous increment.\n",
    " \n",
    "\n",
    "Mary wants to change seats for the adjacent students.\n",
    " \n",
    "\n",
    "Can you write a SQL query to output the result for Mary?\n",
    " \n",
    "\n",
    "+---------+---------+\n",
    "|    id   | student |\n",
    "+---------+---------+\n",
    "|    1    | Abbot   |\n",
    "|    2    | Doris   |\n",
    "|    3    | Emerson |\n",
    "|    4    | Green   |\n",
    "|    5    | Jeames  |\n",
    "+---------+---------+\n",
    "For the sample input, the output is:\n",
    " \n",
    "\n",
    "+---------+---------+\n",
    "|    id   | student |\n",
    "+---------+---------+\n",
    "|    1    | Doris   |\n",
    "|    2    | Abbot   |\n",
    "|    3    | Green   |\n",
    "|    4    | Emerson |\n",
    "|    5    | Jeames  |\n",
    "+---------+---------+\n",
    "Note:\n",
    "If the number of students is odd, there is no need to change the last one's seat."
   ]
  },
  {
   "cell_type": "markdown",
   "metadata": {},
   "source": [
    "### Answer:"
   ]
  },
  {
   "cell_type": "raw",
   "metadata": {},
   "source": [
    "SELECT (CASE\n",
    "            WHEN MOD(id, 2) = 1 AND id != @max_id THEN id + 1\n",
    "            WHEN MOD(id, 2) = 0 THEN id - 1\n",
    "            WHEN MOD(id, 2) = 1 AND id = @max_id THEN id\n",
    "       END) AS id, student\n",
    "FROM seat, (SELECT @max_id := (SELECT MAX(id) FROM seat)) tmp\n",
    "ORDER BY id;"
   ]
  },
  {
   "cell_type": "markdown",
   "metadata": {},
   "source": [
    "### 627. Swap Salary (Easy)"
   ]
  },
  {
   "cell_type": "raw",
   "metadata": {},
   "source": [
    "Given a table salary, such as the one below, that has m=male and f=female values. Swap all f and m values (i.e., change all f values to m and vice versa) with a single update statement and no intermediate temp table.\n",
    "\n",
    "Note that you must write a single update statement, DO NOT write any select statement for this problem.\n",
    "\n",
    "Example:\n",
    "\n",
    "| id | name | sex | salary |\n",
    "|----|------|-----|--------|\n",
    "| 1  | A    | m   | 2500   |\n",
    "| 2  | B    | f   | 1500   |\n",
    "| 3  | C    | m   | 5500   |\n",
    "| 4  | D    | f   | 500    |\n",
    "After running your update statement, the above salary table should have the following rows:\n",
    "| id | name | sex | salary |\n",
    "|----|------|-----|--------|\n",
    "| 1  | A    | f   | 2500   |\n",
    "| 2  | B    | m   | 1500   |\n",
    "| 3  | C    | f   | 5500   |\n",
    "| 4  | D    | m   | 500    |"
   ]
  },
  {
   "cell_type": "markdown",
   "metadata": {},
   "source": [
    "### Answer:"
   ]
  },
  {
   "cell_type": "raw",
   "metadata": {},
   "source": [
    "UPDATE salary SET sex = IF (sex = \"m\", \"f\", \"m\");"
   ]
  },
  {
   "cell_type": "markdown",
   "metadata": {},
   "source": [
    "### 1045. Customers Who Bought All Products (Medium)"
   ]
  },
  {
   "cell_type": "raw",
   "metadata": {},
   "source": [
    "Table: Customer\n",
    "\n",
    "+-------------+---------+\n",
    "| Column Name | Type    |\n",
    "+-------------+---------+\n",
    "| customer_id | int     |\n",
    "| product_key | int     |\n",
    "+-------------+---------+\n",
    "product_key is a foreign key to Product table.\n",
    "Table: Product\n",
    "\n",
    "+-------------+---------+\n",
    "| Column Name | Type    |\n",
    "+-------------+---------+\n",
    "| product_key | int     |\n",
    "+-------------+---------+\n",
    "product_key is the primary key column for this table.\n",
    " \n",
    "\n",
    "Write an SQL query for a report that provides the customer ids from the Customer table that bought all the products in the Product table.\n",
    "\n",
    "For example:\n",
    "\n",
    "Customer table:\n",
    "+-------------+-------------+\n",
    "| customer_id | product_key |\n",
    "+-------------+-------------+\n",
    "| 1           | 5           |\n",
    "| 2           | 6           |\n",
    "| 3           | 5           |\n",
    "| 3           | 6           |\n",
    "| 1           | 6           |\n",
    "+-------------+-------------+\n",
    "\n",
    "Product table:\n",
    "+-------------+\n",
    "| product_key |\n",
    "+-------------+\n",
    "| 5           |\n",
    "| 6           |\n",
    "+-------------+\n",
    "\n",
    "Result table:\n",
    "+-------------+\n",
    "| customer_id |\n",
    "+-------------+\n",
    "| 1           |\n",
    "| 3           |\n",
    "+-------------+\n",
    "The customers who bought all the products (5 and 6) are customers with id 1 and 3."
   ]
  },
  {
   "cell_type": "markdown",
   "metadata": {},
   "source": [
    "### Answer:"
   ]
  },
  {
   "cell_type": "raw",
   "metadata": {},
   "source": [
    "SELECT customer_id\n",
    "FROM (SELECT DISTINCT customer_id, product_key FROM Customer) tmp\n",
    "GROUP BY customer_id\n",
    "HAVING SUM(product_key) = (SELECT SUM(product_key) FROM Product);"
   ]
  },
  {
   "cell_type": "markdown",
   "metadata": {},
   "source": [
    "### 1050. Actors and Directors Who Cooperated At Least Three Times (Easy)"
   ]
  },
  {
   "cell_type": "raw",
   "metadata": {},
   "source": [
    "Table: ActorDirector\n",
    "\n",
    "+-------------+---------+\n",
    "| Column Name | Type    |\n",
    "+-------------+---------+\n",
    "| actor_id    | int     |\n",
    "| director_id | int     |\n",
    "| timestamp   | int     |\n",
    "+-------------+---------+\n",
    "timestamp is the primary key column for this table.\n",
    " \n",
    "\n",
    "Write a SQL query for a report that provides the pairs (actor_id, director_id) where the actor have cooperated with the director at least 3 times.\n",
    "\n",
    "Example:\n",
    "\n",
    "ActorDirector table:\n",
    "+-------------+-------------+-------------+\n",
    "| actor_id    | director_id | timestamp   |\n",
    "+-------------+-------------+-------------+\n",
    "| 1           | 1           | 0           |\n",
    "| 1           | 1           | 1           |\n",
    "| 1           | 1           | 2           |\n",
    "| 1           | 2           | 3           |\n",
    "| 1           | 2           | 4           |\n",
    "| 2           | 1           | 5           |\n",
    "| 2           | 1           | 6           |\n",
    "+-------------+-------------+-------------+\n",
    "\n",
    "Result table:\n",
    "+-------------+-------------+\n",
    "| actor_id    | director_id |\n",
    "+-------------+-------------+\n",
    "| 1           | 1           |\n",
    "+-------------+-------------+\n",
    "The only pair is (1, 1) where they cooperated exactly 3 times."
   ]
  },
  {
   "cell_type": "markdown",
   "metadata": {},
   "source": [
    "### Answer:"
   ]
  },
  {
   "cell_type": "raw",
   "metadata": {},
   "source": [
    "SELECT actor_id, director_id\n",
    "FROM ActorDirector\n",
    "GROUP BY actor_id, director_id\n",
    "HAVING COUNT(*) >= 3;"
   ]
  }
 ],
 "metadata": {
  "kernelspec": {
   "display_name": "Python 3",
   "language": "python",
   "name": "python3"
  },
  "language_info": {
   "codemirror_mode": {
    "name": "ipython",
    "version": 3
   },
   "file_extension": ".py",
   "mimetype": "text/x-python",
   "name": "python",
   "nbconvert_exporter": "python",
   "pygments_lexer": "ipython3",
   "version": "3.7.3"
  }
 },
 "nbformat": 4,
 "nbformat_minor": 2
}
